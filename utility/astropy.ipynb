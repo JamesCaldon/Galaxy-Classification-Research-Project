{
 "cells": [
  {
   "cell_type": "code",
   "execution_count": null,
   "source": [
    "import sys\r\n",
    "sys.path.insert(0, \"..\\\\utility\")\r\n",
    "from data_import import *\r\n",
    "from data_export import *\r\n",
    "from load_califa_fits import *\r\n",
    "from data_preprocessing import *\r\n",
    "from data_loading import *\r\n",
    "import numpy as np\r\n",
    "import pandas as pd"
   ],
   "outputs": [],
   "metadata": {}
  },
  {
   "cell_type": "code",
   "execution_count": null,
   "source": [
    "#import_califa_data()"
   ],
   "outputs": [],
   "metadata": {}
  },
  {
   "cell_type": "code",
   "execution_count": null,
   "source": [
    "#import_graham_data()"
   ],
   "outputs": [],
   "metadata": {}
  },
  {
   "cell_type": "code",
   "execution_count": null,
   "source": [
    "#fits_to_text(\"..\\\\data\\\\raw\\\\testing\\\\new_califa\\\\\", \"new_califa.fits\", \"..\\\\data\\\\raw\\\\testing\\\\new_califa\\\\\")"
   ],
   "outputs": [],
   "metadata": {}
  },
  {
   "cell_type": "code",
   "execution_count": null,
   "source": [
    "#x, Y, metadata = load_fits_data()\r\n",
    "#print(metadata)\r\n",
    "#print(np.array(x).shape)\r\n",
    "#print(Y)\r\n",
    "\r\n",
    "#apply_gaussian_PSF(np.array(x).reshape((79, 100, 100, 1)))"
   ],
   "outputs": [],
   "metadata": {}
  },
  {
   "cell_type": "code",
   "execution_count": null,
   "source": [
    "#import matplotlib.pyplot as plt\r\n",
    "#plt.imshow(x[2])"
   ],
   "outputs": [],
   "metadata": {}
  },
  {
   "cell_type": "code",
   "execution_count": null,
   "source": [
    "import_simulation_data(\"..\\\\data\\\\raw\\\\training\\\\fd=0.3-0.9_discs_orig_200\\\\\", 200, save_dir=\"..\\\\data\\\\fits_training\\\\\", name=\"fd=0.3-0.9_orig_200.hdf5\")"
   ],
   "outputs": [],
   "metadata": {}
  },
  {
   "cell_type": "code",
   "execution_count": null,
   "source": [
    "#x_dataset, y_dataset, metadata = load_fits_data(name=\"fd=0.3-0.7\", count=6400)"
   ],
   "outputs": [],
   "metadata": {}
  },
  {
   "cell_type": "code",
   "execution_count": null,
   "source": [
    "#import_nair_data(mesh=200, name=\"nair_200.hdf5\")"
   ],
   "outputs": [],
   "metadata": {}
  },
  {
   "cell_type": "code",
   "execution_count": null,
   "source": [
    "#import_califa_data(mesh = 200, name=\"califa_s_1.0_mesh_200.hdf5\")"
   ],
   "outputs": [],
   "metadata": {}
  },
  {
   "cell_type": "code",
   "execution_count": null,
   "source": [
    "#import pandas as pd\r\n",
    "#pd.read_csv(\"..\\\\data\\\\raw\\\\nair_abraham_2010\\\\NairAbrahamMorphology.cat\", sep=\"\\s+\").columns[42 - 1]"
   ],
   "outputs": [],
   "metadata": {}
  },
  {
   "cell_type": "code",
   "execution_count": null,
   "source": [
    "# x_val, Y_val, metadata = load_hdf5_data(name=\"califa_zoom\")\r\n",
    "# x_val = np.expand_dims(x_val, axis=3)\r\n",
    "# pr = sim_model.predict(x_val).argmax(axis=1)\r\n",
    "# from sklearn import metrics\r\n",
    "# metrics.ConfusionMatrixDisplay(metrics.confusion_matrix(Y_val, pr), display_labels=['E', 'ES']).plot(cmap='Blues')\r\n",
    "\r\n"
   ],
   "outputs": [],
   "metadata": {}
  }
 ],
 "metadata": {
  "interpreter": {
   "hash": "b20f78c8b161c2d28d097599ec49d232bad73a67c2dd6ab644d3da97e4813ebf"
  },
  "kernelspec": {
   "name": "python3",
   "display_name": "Python 3.9.5 64-bit ('hon-tf-2.5.0': conda)"
  },
  "language_info": {
   "codemirror_mode": {
    "name": "ipython",
    "version": 3
   },
   "file_extension": ".py",
   "mimetype": "text/x-python",
   "name": "python",
   "nbconvert_exporter": "python",
   "pygments_lexer": "ipython3",
   "version": "3.9.5"
  },
  "orig_nbformat": 4
 },
 "nbformat": 4,
 "nbformat_minor": 2
}
{
 "cells": [
  {
   "cell_type": "code",
   "execution_count": 1,
   "source": [
    "'''\r\n",
    "import math\r\n",
    "from pathlib import Path\r\n",
    "import os\r\n",
    "import numpy as np\r\n",
    "import pandas as pd\r\n",
    "from joblib import Parallel, delayed\r\n",
    "mesh = 100\r\n",
    "def load_data(filepath = \"..\\\\data\\\\raw\\\\training\\\\fd=0.3-0.7_discs\", total_image_count=None):\r\n",
    "    def load_class_data(filepath, classname):\r\n",
    "        paths = list(Path(filepath).rglob('2dft.dat'))\r\n",
    "        path_len = len(list(paths))\r\n",
    "        if (path_len == 0):\r\n",
    "            return [], []\r\n",
    "        rows_to_read = None\r\n",
    "        if (total_image_count is not None):\r\n",
    "            file_count = path_len\r\n",
    "            rows_to_read = math.floor(total_image_count/file_count) * mesh * mesh\r\n",
    "        x = np.empty((0, mesh, mesh, 1)); y = np.empty((1))\r\n",
    "        for path in paths:\r\n",
    "            print(\"Start Loading Data\")\r\n",
    "            loaded_data = pd.read_csv(path, header=None, \r\n",
    "                                         sep='\\s+',\r\n",
    "                                         nrows=rows_to_read).to_numpy()\r\n",
    "            print(\"Loaded Data\")\r\n",
    "            loaded_data = loaded_data[:loaded_data.size - (loaded_data.size % (mesh * mesh))].reshape(-1, mesh, mesh, 1)\r\n",
    "            x = np.append(x, loaded_data, axis=0)\r\n",
    "            y = np.append(y, np.full(int(loaded_data.shape[0]/(mesh*mesh)), classname))\r\n",
    "        return x, y\r\n",
    "    disc_data = load_class_data(os.path.join(filepath, 'disc'), 'ES')\r\n",
    "    no_disc_data = load_class_data(os.path.join(filepath, 'no_disc'), 'E')\r\n",
    "    unknown_data = load_class_data(os.path.join(filepath, 'unknown'), '?')\r\n",
    "    return disc_data, no_disc_data, unknown_data\r\n",
    "'''"
   ],
   "outputs": [
    {
     "output_type": "execute_result",
     "data": {
      "text/plain": [
       "'\\nimport math\\nfrom pathlib import Path\\nimport os\\nimport numpy as np\\nimport pandas as pd\\nfrom joblib import Parallel, delayed\\nmesh = 100\\ndef load_data(filepath = \"..\\\\data\\\\raw\\\\training\\\\fd=0.3-0.7_discs\", total_image_count=None):\\n    def load_class_data(filepath, classname):\\n        paths = list(Path(filepath).rglob(\\'2dft.dat\\'))\\n        path_len = len(list(paths))\\n        if (path_len == 0):\\n            return [], []\\n        rows_to_read = None\\n        if (total_image_count is not None):\\n            file_count = path_len\\n            rows_to_read = math.floor(total_image_count/file_count) * mesh * mesh\\n        x = np.empty((0, mesh, mesh, 1)); y = np.empty((1))\\n        for path in paths:\\n            print(\"Start Loading Data\")\\n            loaded_data = pd.read_csv(path, header=None, \\n                                         sep=\\'\\\\s+\\',\\n                                         nrows=rows_to_read).to_numpy()\\n            print(\"Loaded Data\")\\n            loaded_data = loaded_data[:loaded_data.size - (loaded_data.size % (mesh * mesh))].reshape(-1, mesh, mesh, 1)\\n            x = np.append(x, loaded_data, axis=0)\\n            y = np.append(y, np.full(int(loaded_data.shape[0]/(mesh*mesh)), classname))\\n        return x, y\\n    disc_data = load_class_data(os.path.join(filepath, \\'disc\\'), \\'ES\\')\\n    no_disc_data = load_class_data(os.path.join(filepath, \\'no_disc\\'), \\'E\\')\\n    unknown_data = load_class_data(os.path.join(filepath, \\'unknown\\'), \\'?\\')\\n    return disc_data, no_disc_data, unknown_data\\n'"
      ]
     },
     "metadata": {},
     "execution_count": 1
    }
   ],
   "metadata": {}
  },
  {
   "cell_type": "code",
   "execution_count": 1,
   "source": [
    "import math\r\n",
    "from pathlib import Path\r\n",
    "import os\r\n",
    "import numpy as np\r\n",
    "import pandas as pd\r\n",
    "from joblib import Parallel, delayed\r\n",
    "from astropy.io import fits\r\n",
    "from astropy.table import Table\r\n",
    "from matplotlib import pyplot as plt\r\n",
    "mesh = 100\r\n",
    "def load_data_into_fits(filepath = \"..\\\\data\\\\raw\\\\training\\\\fd=0.2-0.8_discs\", total_image_count=None):\r\n",
    "    def load_data_chunk(path, rows_to_read, classname):\r\n",
    "            loaded_data = pd.read_csv(path, header=None, \r\n",
    "                                         sep='\\s+',\r\n",
    "                                         nrows=rows_to_read).to_numpy()\r\n",
    "            loaded_data = loaded_data[:loaded_data.size - (loaded_data.size % (mesh * mesh))].reshape(-1, mesh, mesh)\r\n",
    "            y = np.full(int(loaded_data.shape[0]), classname)\r\n",
    "            return loaded_data, y\r\n",
    "    def load_class_data(filepath, classname):\r\n",
    "        paths = list(Path(filepath).rglob('2dft.dat'))\r\n",
    "        path_len = len(list(paths))\r\n",
    "        if (path_len == 0):\r\n",
    "            return None\r\n",
    "        rows_to_read = None\r\n",
    "        if (total_image_count is not None):\r\n",
    "            file_count = path_len\r\n",
    "            rows_to_read = math.floor(total_image_count/file_count) * mesh * mesh\r\n",
    "\r\n",
    "        output = Parallel(n_jobs=path_len)(delayed(load_data_chunk)(path, rows_to_read, classname) for path in paths)\r\n",
    "        return output\r\n",
    "    def save_to_fits(new_hdul, data):\r\n",
    "        \r\n",
    "        for part in data:\r\n",
    "            #print(np.max(part[0]))\r\n",
    "            new_hdul.append(fits.CompImageHDU(part[0]))\r\n",
    "            class_data = Table.from_pandas(pd.DataFrame(part[1], columns=[\"class\"]))\r\n",
    "            new_hdul.append(fits.table_to_hdu(class_data))\r\n",
    "        \r\n",
    "    disc_data = load_class_data(os.path.join(filepath, 'disc'), 'ES')\r\n",
    "    no_disc_data = load_class_data(os.path.join(filepath, 'no_disc'), 'E')\r\n",
    "    unknown_data = load_class_data(os.path.join(filepath, 'unknown'), '?')\r\n",
    "    new_hdul = fits.HDUList()\r\n",
    "    if (disc_data is not None):\r\n",
    "        save_to_fits(new_hdul, disc_data)\r\n",
    "        \r\n",
    "    if (no_disc_data is not None):    \r\n",
    "        save_to_fits(new_hdul, no_disc_data)\r\n",
    "\r\n",
    "    if (unknown_data is not None):\r\n",
    "        save_to_fits(new_hdul, unknown_data)\r\n",
    "        \r\n",
    "    new_hdul.writeto(\"..\\\\data\\\\fits_training\\\\fd=0.2-0.8.fits\", overwrite = True)\r\n",
    "    return disc_data, no_disc_data, unknown_data"
   ],
   "outputs": [],
   "metadata": {}
  },
  {
   "cell_type": "code",
   "execution_count": 3,
   "source": [
    "def raw_to_fits(filepath = \"..\\\\data\\\\raw\\\\testing\\\\nair_abraham_2010\", name=\"nair_abraham_2010.fits\"):\r\n",
    "    from astropy.io import fits\r\n",
    "    from astropy.table import Table\r\n",
    "    from matplotlib import pyplot as plt\r\n",
    "    image_data, Y = load_dataset(filepath)\r\n",
    "    plt.imshow(image_data[0])\r\n",
    "\r\n",
    "    class_data = Table.from_pandas(pd.DataFrame(Y, columns=[\"class\"]))\r\n",
    "    primary_hdu = fits.PrimaryHDU(image_data)\r\n",
    "    table_hdu = fits.table_to_hdu(class_data)\r\n",
    "    hdul = fits.HDUList([primary_hdu, table_hdu])\r\n",
    "    hdul.writeto(name, overwrite=True)\r\n",
    "    \r\n",
    "    with fits.open(name) as hdul:\r\n",
    "        img_arr = np.array(hdul[0].data)\r\n",
    "        img_class = hdul[1].data\r\n",
    "\r\n",
    "    from matplotlib import pyplot as plt\r\n",
    "    plt.imshow(img_arr[0])"
   ],
   "outputs": [],
   "metadata": {}
  },
  {
   "cell_type": "code",
   "execution_count": 2,
   "source": [
    "disc_data, no_disc_data, unknown_data = load_data_into_fits()"
   ],
   "outputs": [],
   "metadata": {}
  },
  {
   "cell_type": "code",
   "execution_count": 5,
   "source": [
    "print(disc_data[0][0].shape)\r\n",
    "plt.imshow(disc_data[26][0][0])"
   ],
   "outputs": [
    {
     "output_type": "stream",
     "name": "stdout",
     "text": [
      "(1000, 100, 100)\n"
     ]
    },
    {
     "output_type": "execute_result",
     "data": {
      "text/plain": [
       "<matplotlib.image.AxesImage at 0x1fc200a34f0>"
      ]
     },
     "metadata": {},
     "execution_count": 5
    },
    {
     "output_type": "display_data",
     "data": {
      "text/plain": [
       "<Figure size 432x288 with 1 Axes>"
      ],
      "image/png": "[encoded data removed]"
     },
     "metadata": {
      "needs_background": "light"
     }
    }
   ],
   "metadata": {}
  },
  {
   "cell_type": "code",
   "execution_count": null,
   "source": [
    "%run ../utility/data_loading.ipynb\r\n",
    "x, Y, metadata = load_data_new()"
   ],
   "outputs": [],
   "metadata": {}
  },
  {
   "cell_type": "code",
   "execution_count": null,
   "source": [
    "x.shape"
   ],
   "outputs": [],
   "metadata": {}
  },
  {
   "cell_type": "code",
   "execution_count": null,
   "source": [
    "print(np.max(x))"
   ],
   "outputs": [],
   "metadata": {}
  },
  {
   "cell_type": "code",
   "execution_count": null,
   "source": [],
   "outputs": [],
   "metadata": {}
  }
 ],
 "metadata": {
  "kernelspec": {
   "display_name": "hon",
   "language": "python",
   "name": "hon"
  },
  "language_info": {
   "codemirror_mode": {
    "name": "ipython",
    "version": 3
   },
   "file_extension": ".py",
   "mimetype": "text/x-python",
   "name": "python",
   "nbconvert_exporter": "python",
   "pygments_lexer": "ipython3",
   "version": "3.8.8"
  }
 },
 "nbformat": 4,
 "nbformat_minor": 5
}
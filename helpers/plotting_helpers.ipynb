{
 "cells": [
  {
   "cell_type": "code",
   "execution_count": null,
   "id": "working-malawi",
   "metadata": {},
   "outputs": [],
   "source": [
    "import numpy as np\n",
    "import matplotlib as mpl\n",
    "from matplotlib import pyplot as plt\n",
    "RANDOM_SEED_ = 2021\n",
    "rng = np.random.default_rng(RANDOM_SEED_)\n",
    "def plot_classification_results(images, display_size=(5, 5), y_preds=None, y_trues=None, y_labels=None, galaxy_names=None, random_sample=False):\n",
    "    display_count = np.prod(display_size)\n",
    "    fig, axs = plt.subplots(display_size[0], display_size[1])\n",
    "    plt.tight_layout()\n",
    "    def plot_image(img, y_pred, y_true, galaxy_name, ax):\n",
    "        ax.imshow(img)\n",
    "        title_color = 'black'\n",
    "        title = \"\"\n",
    "        if (galaxy_name is not None):\n",
    "            title += galaxy_name + str(': ')\n",
    "        \n",
    "        if (y_pred is not None):\n",
    "            \n",
    "            if (y_pred == 1):\n",
    "                title += y_labels[1]\n",
    "            else:\n",
    "                title += y_labels[0]\n",
    "\n",
    "        if (y_true is not None):\n",
    "            if (y_pred != y_true):\n",
    "                title_color = 'red'\n",
    "        ax.set_title(title, color=title_color)\n",
    "\n",
    "    if (display_count != 1):\n",
    "        axs_list = axs.flatten()\n",
    "    else:\n",
    "        axs_list = [axs]\n",
    "    selected_images = slice(0, display_count)\n",
    "    if random_sample:\n",
    "        print(rng.integers(0, images.shape[0], display_count))\n",
    "        selected_images = rng.integers(0, images.shape[0], display_count)\n",
    "\n",
    "    if (galaxy_names is None):\n",
    "        galaxy_names = np.full(images.shape[0], None)\n",
    "        \n",
    "    if (y_trues is None):\n",
    "        y_trues = np.full(images.shape[0], None)\n",
    "    list(map(plot_image, images[selected_images], y_preds[selected_images], y_trues[selected_images], galaxy_names[selected_images], axs_list));"
   ]
  }
 ],
 "metadata": {
  "kernelspec": {
   "display_name": "hon-k=2.1.4",
   "language": "python",
   "name": "honours-keras-2.1.4"
  },
  "language_info": {
   "codemirror_mode": {
    "name": "ipython",
    "version": 3
   },
   "file_extension": ".py",
   "mimetype": "text/x-python",
   "name": "python",
   "nbconvert_exporter": "python",
   "pygments_lexer": "ipython3",
   "version": "3.6.13"
  }
 },
 "nbformat": 4,
 "nbformat_minor": 5
}

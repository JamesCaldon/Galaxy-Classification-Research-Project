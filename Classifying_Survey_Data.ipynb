{
 "cells": [
  {
   "cell_type": "code",
   "execution_count": 1,
   "source": [
    "#import tensorflow as tf\r\n",
    "#from keras.backend.tensorflow_backend import set_session\r\n",
    "\r\n",
    "#config = tf.ConfigProto()\r\n",
    "#config.gpu_options.allow_growth = True\r\n",
    "#sess = tf.Session(config=config)\r\n",
    "#set_session(sess)"
   ],
   "outputs": [],
   "metadata": {}
  },
  {
   "cell_type": "code",
   "execution_count": 2,
   "source": [
    "import tensorflow as tf\r\n",
    "gpus = tf.config.experimental.list_physical_devices('GPU')\r\n",
    "if gpus:\r\n",
    "    try:\r\n",
    "        for gpu in gpus:\r\n",
    "            tf.config.experimental.set_memory_growth(gpu, True)#\r\n",
    "\r\n",
    "    except RuntimeError as e:\r\n",
    "        print(e)"
   ],
   "outputs": [],
   "metadata": {}
  },
  {
   "cell_type": "code",
   "execution_count": 3,
   "source": [
    "\"\"\"\r\n",
    "\r\n",
    "This is for morphological classification of galaxies by CNN,\r\n",
    "By Kenji Bekki, on 2017/11/15\r\n",
    "Revised on 2020/2/14 (Nair & Abraham 2010)\r\n",
    "For test only.\r\n",
    "\r\n",
    "\"\"\"\r\n",
    "\r\n",
    "from tensorflow.keras.models import model_from_json\r\n",
    "import numpy as np\r\n",
    "import matplotlib as mpl\r\n",
    "from matplotlib import pyplot as plt\r\n",
    "%matplotlib inline\r\n",
    "mpl.rcParams['figure.figsize'] = [10, 10]\r\n",
    "mpl.rcParams['figure.dpi'] = 72\r\n",
    "\r\n",
    "import sys\r\n",
    "sys.path.insert(0, \"..\\\\utility\")\r\n",
    "from data_loading import *\r\n",
    "count = 1000\r\n",
    "#x, Y, metadata = load_hdf5_data(name=\"nair_abraham_2010_hdf5\")\r\n",
    "x, Y, metadata = load_hdf5_data(name=\"nair_200_hdf5\")\r\n",
    "\r\n",
    "\r\n",
    "#TTypes = load_attribute(data=\"NAIR_ABRAHAM_2010\")\r\n",
    "\r\n",
    "#EInd = np.where(TTypes == -5)[0] # Elliptical\r\n",
    "\r\n",
    "#x = x[EInd]\r\n",
    "\r\n",
    "#np.savetxt(\"Nair_Abraham_2010_Ellipticals.dat\", x.flatten())"
   ],
   "outputs": [
    {
     "output_type": "stream",
     "name": "stderr",
     "text": [
      "E:\\Anaconda3\\envs\\hon-tf-2.5.0\\lib\\site-packages\\tables\\path.py:155: NaturalNameWarning: object name is not a valid Python identifier: 'NYU-DR4_Object_Tag'; it does not match the pattern ``^[a-zA-Z_][a-zA-Z0-9_]*$``; you will not be able to use natural naming to access this object; using ``getattr()`` will still work, though\n",
      "  check_attribute_name(name)\n",
      "E:\\Anaconda3\\envs\\hon-tf-2.5.0\\lib\\site-packages\\tables\\path.py:155: NaturalNameWarning: object name is a Python keyword: 'class'; you will not be able to use natural naming to access this object; using ``getattr()`` will still work, though\n",
      "  check_attribute_name(name)\n",
      "E:\\Anaconda3\\envs\\hon-tf-2.5.0\\lib\\site-packages\\tables\\path.py:155: NaturalNameWarning: object name is not a valid Python identifier: 'g-r'; it does not match the pattern ``^[a-zA-Z_][a-zA-Z0-9_]*$``; you will not be able to use natural naming to access this object; using ``getattr()`` will still work, though\n",
      "  check_attribute_name(name)\n"
     ]
    },
    {
     "output_type": "stream",
     "name": "stdout",
     "text": [
      "(2723, 100, 100)\n"
     ]
    },
    {
     "output_type": "error",
     "ename": "KeyError",
     "evalue": "'gclass'",
     "traceback": [
      "\u001b[1;31m---------------------------------------------------------------------------\u001b[0m",
      "\u001b[1;31mKeyError\u001b[0m                                  Traceback (most recent call last)",
      "\u001b[1;32mE:\\Anaconda3\\envs\\hon-tf-2.5.0\\lib\\site-packages\\pandas\\core\\indexes\\base.py\u001b[0m in \u001b[0;36mget_loc\u001b[1;34m(self, key, method, tolerance)\u001b[0m\n\u001b[0;32m   3360\u001b[0m             \u001b[1;32mtry\u001b[0m\u001b[1;33m:\u001b[0m\u001b[1;33m\u001b[0m\u001b[1;33m\u001b[0m\u001b[0m\n\u001b[1;32m-> 3361\u001b[1;33m                 \u001b[1;32mreturn\u001b[0m \u001b[0mself\u001b[0m\u001b[1;33m.\u001b[0m\u001b[0m_engine\u001b[0m\u001b[1;33m.\u001b[0m\u001b[0mget_loc\u001b[0m\u001b[1;33m(\u001b[0m\u001b[0mcasted_key\u001b[0m\u001b[1;33m)\u001b[0m\u001b[1;33m\u001b[0m\u001b[1;33m\u001b[0m\u001b[0m\n\u001b[0m\u001b[0;32m   3362\u001b[0m             \u001b[1;32mexcept\u001b[0m \u001b[0mKeyError\u001b[0m \u001b[1;32mas\u001b[0m \u001b[0merr\u001b[0m\u001b[1;33m:\u001b[0m\u001b[1;33m\u001b[0m\u001b[1;33m\u001b[0m\u001b[0m\n",
      "\u001b[1;32mE:\\Anaconda3\\envs\\hon-tf-2.5.0\\lib\\site-packages\\pandas\\_libs\\index.pyx\u001b[0m in \u001b[0;36mpandas._libs.index.IndexEngine.get_loc\u001b[1;34m()\u001b[0m\n",
      "\u001b[1;32mE:\\Anaconda3\\envs\\hon-tf-2.5.0\\lib\\site-packages\\pandas\\_libs\\index.pyx\u001b[0m in \u001b[0;36mpandas._libs.index.IndexEngine.get_loc\u001b[1;34m()\u001b[0m\n",
      "\u001b[1;32mpandas\\_libs\\hashtable_class_helper.pxi\u001b[0m in \u001b[0;36mpandas._libs.hashtable.PyObjectHashTable.get_item\u001b[1;34m()\u001b[0m\n",
      "\u001b[1;32mpandas\\_libs\\hashtable_class_helper.pxi\u001b[0m in \u001b[0;36mpandas._libs.hashtable.PyObjectHashTable.get_item\u001b[1;34m()\u001b[0m\n",
      "\u001b[1;31mKeyError\u001b[0m: 'gclass'",
      "\nThe above exception was the direct cause of the following exception:\n",
      "\u001b[1;31mKeyError\u001b[0m                                  Traceback (most recent call last)",
      "\u001b[1;32m<ipython-input-3-07a1ea0fa0cd>\u001b[0m in \u001b[0;36m<module>\u001b[1;34m\u001b[0m\n\u001b[0;32m     20\u001b[0m \u001b[1;32mfrom\u001b[0m \u001b[0mdata_loading\u001b[0m \u001b[1;32mimport\u001b[0m \u001b[1;33m*\u001b[0m\u001b[1;33m\u001b[0m\u001b[1;33m\u001b[0m\u001b[0m\n\u001b[0;32m     21\u001b[0m \u001b[0mcount\u001b[0m \u001b[1;33m=\u001b[0m \u001b[1;36m1000\u001b[0m\u001b[1;33m\u001b[0m\u001b[1;33m\u001b[0m\u001b[0m\n\u001b[1;32m---> 22\u001b[1;33m \u001b[0mx\u001b[0m\u001b[1;33m,\u001b[0m \u001b[0mY\u001b[0m\u001b[1;33m,\u001b[0m \u001b[0mmetadata\u001b[0m \u001b[1;33m=\u001b[0m \u001b[0mload_hdf5_data\u001b[0m\u001b[1;33m(\u001b[0m\u001b[0mname\u001b[0m\u001b[1;33m=\u001b[0m\u001b[1;34m\"nair_abraham_2010_hdf5\"\u001b[0m\u001b[1;33m)\u001b[0m\u001b[1;33m\u001b[0m\u001b[1;33m\u001b[0m\u001b[0m\n\u001b[0m\u001b[0;32m     23\u001b[0m \u001b[0mx\u001b[0m\u001b[1;33m,\u001b[0m \u001b[0mY\u001b[0m\u001b[1;33m,\u001b[0m \u001b[0mmetadata\u001b[0m \u001b[1;33m=\u001b[0m \u001b[0mload_hdf5_data\u001b[0m\u001b[1;33m(\u001b[0m\u001b[0mname\u001b[0m\u001b[1;33m=\u001b[0m\u001b[1;34m\"nair_200_hdf5\"\u001b[0m\u001b[1;33m)\u001b[0m\u001b[1;33m\u001b[0m\u001b[1;33m\u001b[0m\u001b[0m\n\u001b[0;32m     24\u001b[0m \u001b[1;33m\u001b[0m\u001b[0m\n",
      "\u001b[1;32md:\\Galaxy-Classification-Research-Project\\classification\\..\\utility\\data_loading.py\u001b[0m in \u001b[0;36mload_hdf5_data\u001b[1;34m(name, count, skip)\u001b[0m\n\u001b[0;32m    166\u001b[0m         \u001b[0mx\u001b[0m \u001b[1;33m=\u001b[0m \u001b[0mnp\u001b[0m\u001b[1;33m.\u001b[0m\u001b[0marray\u001b[0m\u001b[1;33m(\u001b[0m\u001b[0mf\u001b[0m\u001b[1;33m[\u001b[0m\u001b[1;33m(\u001b[0m\u001b[1;34m'image_data'\u001b[0m\u001b[1;33m)\u001b[0m\u001b[1;33m]\u001b[0m\u001b[1;33m)\u001b[0m\u001b[1;33m[\u001b[0m\u001b[0mall_indices\u001b[0m\u001b[1;33m]\u001b[0m\u001b[1;33m.\u001b[0m\u001b[0msqueeze\u001b[0m\u001b[1;33m(\u001b[0m\u001b[1;33m)\u001b[0m\u001b[1;33m\u001b[0m\u001b[1;33m\u001b[0m\u001b[0m\n\u001b[0;32m    167\u001b[0m         \u001b[0mprint\u001b[0m\u001b[1;33m(\u001b[0m\u001b[0mx\u001b[0m\u001b[1;33m.\u001b[0m\u001b[0mshape\u001b[0m\u001b[1;33m)\u001b[0m\u001b[1;33m\u001b[0m\u001b[1;33m\u001b[0m\u001b[0m\n\u001b[1;32m--> 168\u001b[1;33m         \u001b[0mY\u001b[0m \u001b[1;33m=\u001b[0m \u001b[0mmetadata\u001b[0m\u001b[1;33m[\u001b[0m\u001b[1;34m'gclass'\u001b[0m\u001b[1;33m]\u001b[0m\u001b[1;33m.\u001b[0m\u001b[0mto_numpy\u001b[0m\u001b[1;33m(\u001b[0m\u001b[1;33m)\u001b[0m\u001b[1;33m[\u001b[0m\u001b[0mall_indices\u001b[0m\u001b[1;33m]\u001b[0m\u001b[1;33m\u001b[0m\u001b[1;33m\u001b[0m\u001b[0m\n\u001b[0m\u001b[0;32m    169\u001b[0m         \u001b[1;32mfor\u001b[0m \u001b[0mclass_mapping\u001b[0m \u001b[1;32min\u001b[0m \u001b[0mclass_mappings\u001b[0m\u001b[1;33m.\u001b[0m\u001b[0mitems\u001b[0m\u001b[1;33m(\u001b[0m\u001b[1;33m)\u001b[0m\u001b[1;33m:\u001b[0m\u001b[1;33m\u001b[0m\u001b[1;33m\u001b[0m\u001b[0m\n\u001b[0;32m    170\u001b[0m                 \u001b[0mY\u001b[0m\u001b[1;33m[\u001b[0m\u001b[0mY\u001b[0m \u001b[1;33m==\u001b[0m \u001b[0mclass_mapping\u001b[0m\u001b[1;33m[\u001b[0m\u001b[1;36m0\u001b[0m\u001b[1;33m]\u001b[0m\u001b[1;33m]\u001b[0m \u001b[1;33m=\u001b[0m \u001b[0mclass_mapping\u001b[0m\u001b[1;33m[\u001b[0m\u001b[1;36m1\u001b[0m\u001b[1;33m]\u001b[0m\u001b[1;33m\u001b[0m\u001b[1;33m\u001b[0m\u001b[0m\n",
      "\u001b[1;32mE:\\Anaconda3\\envs\\hon-tf-2.5.0\\lib\\site-packages\\pandas\\core\\frame.py\u001b[0m in \u001b[0;36m__getitem__\u001b[1;34m(self, key)\u001b[0m\n\u001b[0;32m   3453\u001b[0m             \u001b[1;32mif\u001b[0m \u001b[0mself\u001b[0m\u001b[1;33m.\u001b[0m\u001b[0mcolumns\u001b[0m\u001b[1;33m.\u001b[0m\u001b[0mnlevels\u001b[0m \u001b[1;33m>\u001b[0m \u001b[1;36m1\u001b[0m\u001b[1;33m:\u001b[0m\u001b[1;33m\u001b[0m\u001b[1;33m\u001b[0m\u001b[0m\n\u001b[0;32m   3454\u001b[0m                 \u001b[1;32mreturn\u001b[0m \u001b[0mself\u001b[0m\u001b[1;33m.\u001b[0m\u001b[0m_getitem_multilevel\u001b[0m\u001b[1;33m(\u001b[0m\u001b[0mkey\u001b[0m\u001b[1;33m)\u001b[0m\u001b[1;33m\u001b[0m\u001b[1;33m\u001b[0m\u001b[0m\n\u001b[1;32m-> 3455\u001b[1;33m             \u001b[0mindexer\u001b[0m \u001b[1;33m=\u001b[0m \u001b[0mself\u001b[0m\u001b[1;33m.\u001b[0m\u001b[0mcolumns\u001b[0m\u001b[1;33m.\u001b[0m\u001b[0mget_loc\u001b[0m\u001b[1;33m(\u001b[0m\u001b[0mkey\u001b[0m\u001b[1;33m)\u001b[0m\u001b[1;33m\u001b[0m\u001b[1;33m\u001b[0m\u001b[0m\n\u001b[0m\u001b[0;32m   3456\u001b[0m             \u001b[1;32mif\u001b[0m \u001b[0mis_integer\u001b[0m\u001b[1;33m(\u001b[0m\u001b[0mindexer\u001b[0m\u001b[1;33m)\u001b[0m\u001b[1;33m:\u001b[0m\u001b[1;33m\u001b[0m\u001b[1;33m\u001b[0m\u001b[0m\n\u001b[0;32m   3457\u001b[0m                 \u001b[0mindexer\u001b[0m \u001b[1;33m=\u001b[0m \u001b[1;33m[\u001b[0m\u001b[0mindexer\u001b[0m\u001b[1;33m]\u001b[0m\u001b[1;33m\u001b[0m\u001b[1;33m\u001b[0m\u001b[0m\n",
      "\u001b[1;32mE:\\Anaconda3\\envs\\hon-tf-2.5.0\\lib\\site-packages\\pandas\\core\\indexes\\base.py\u001b[0m in \u001b[0;36mget_loc\u001b[1;34m(self, key, method, tolerance)\u001b[0m\n\u001b[0;32m   3361\u001b[0m                 \u001b[1;32mreturn\u001b[0m \u001b[0mself\u001b[0m\u001b[1;33m.\u001b[0m\u001b[0m_engine\u001b[0m\u001b[1;33m.\u001b[0m\u001b[0mget_loc\u001b[0m\u001b[1;33m(\u001b[0m\u001b[0mcasted_key\u001b[0m\u001b[1;33m)\u001b[0m\u001b[1;33m\u001b[0m\u001b[1;33m\u001b[0m\u001b[0m\n\u001b[0;32m   3362\u001b[0m             \u001b[1;32mexcept\u001b[0m \u001b[0mKeyError\u001b[0m \u001b[1;32mas\u001b[0m \u001b[0merr\u001b[0m\u001b[1;33m:\u001b[0m\u001b[1;33m\u001b[0m\u001b[1;33m\u001b[0m\u001b[0m\n\u001b[1;32m-> 3363\u001b[1;33m                 \u001b[1;32mraise\u001b[0m \u001b[0mKeyError\u001b[0m\u001b[1;33m(\u001b[0m\u001b[0mkey\u001b[0m\u001b[1;33m)\u001b[0m \u001b[1;32mfrom\u001b[0m \u001b[0merr\u001b[0m\u001b[1;33m\u001b[0m\u001b[1;33m\u001b[0m\u001b[0m\n\u001b[0m\u001b[0;32m   3364\u001b[0m \u001b[1;33m\u001b[0m\u001b[0m\n\u001b[0;32m   3365\u001b[0m         \u001b[1;32mif\u001b[0m \u001b[0mis_scalar\u001b[0m\u001b[1;33m(\u001b[0m\u001b[0mkey\u001b[0m\u001b[1;33m)\u001b[0m \u001b[1;32mand\u001b[0m \u001b[0misna\u001b[0m\u001b[1;33m(\u001b[0m\u001b[0mkey\u001b[0m\u001b[1;33m)\u001b[0m \u001b[1;32mand\u001b[0m \u001b[1;32mnot\u001b[0m \u001b[0mself\u001b[0m\u001b[1;33m.\u001b[0m\u001b[0mhasnans\u001b[0m\u001b[1;33m:\u001b[0m\u001b[1;33m\u001b[0m\u001b[1;33m\u001b[0m\u001b[0m\n",
      "\u001b[1;31mKeyError\u001b[0m: 'gclass'"
     ]
    }
   ],
   "metadata": {}
  },
  {
   "cell_type": "code",
   "execution_count": null,
   "source": [
    "import matplotlib as mpl\r\n",
    "%matplotlib inline\r\n",
    "mpl.rcParams['figure.figsize'] = [10, 10]\r\n",
    "mpl.rcParams['figure.dpi'] = 72\r\n",
    "import plotting_helpers\r\n",
    "plotting_helpers.plot_classification_results(images=x, y_preds=Y, y_trues=Y, y_labels=(\"No Disc\", \"Disc\"), random_sample=True)"
   ],
   "outputs": [],
   "metadata": {}
  },
  {
   "cell_type": "code",
   "execution_count": null,
   "source": [
    "x = x.reshape((-1, 100, 100, 1))\r\n",
    "x.shape"
   ],
   "outputs": [],
   "metadata": {}
  },
  {
   "cell_type": "code",
   "execution_count": null,
   "source": [
    "califa_model = tf.keras.models.load_model(r'saved_models\\califa_s_1.0');\r\n",
    "\r\n",
    "califa_y_pred_prob = califa_model.predict(x)\r\n"
   ],
   "outputs": [],
   "metadata": {}
  },
  {
   "cell_type": "code",
   "execution_count": null,
   "source": [
    "#califa_model = tf.keras.models.load_model(r'saved_models\\califa_s_1.0');\r\n",
    "\r\n",
    "#califa_y_pred_prob = califa_model.predict(x)\r\n",
    "\r\n",
    "califa_y_pred = califa_y_pred_prob.argmax(axis=1)\r\n",
    "califa_results = np.asarray(np.unique(califa_y_pred, return_counts=True)).T\r\n",
    "print(\"total images: \" + str(np.sum(califa_results)-1))\r\n",
    "print(\"Percentage of E: \", califa_results[0, 1]/(np.sum(califa_results)-1)*100)\r\n",
    "print(\"Percentage of ES: \", califa_results[1, 1]/(np.sum(califa_results)-1)*100)"
   ],
   "outputs": [],
   "metadata": {}
  },
  {
   "cell_type": "code",
   "execution_count": null,
   "source": [
    "sim_model = tf.keras.models.load_model(r'saved_models\\transfer_learning0.5.h5')\r\n",
    "\r\n",
    "sim_y_pred_prob = sim_model.predict(x)\r\n",
    "\r\n",
    "sim_y_pred = sim_y_pred_prob.argmax(axis=1)\r\n",
    "sim_results = np.asarray(np.unique(sim_y_pred, return_counts=True)).T\r\n",
    "print(\"total images: \" + str(np.sum(sim_results)-1))\r\n",
    "print(\"Percentage of E: \", sim_results[0, 1]/(np.sum(sim_results)-1)*100)\r\n",
    "print(\"Percentage of ES: \", sim_results[1, 1]/(np.sum(sim_results)-1)*100)"
   ],
   "outputs": [],
   "metadata": {}
  },
  {
   "cell_type": "code",
   "execution_count": null,
   "source": [
    "import plotly.express as px\r\n",
    "import pandas as pd\r\n",
    "df = pd.DataFrame({'Classifier': ['CNNo', 'CNNt', 'CNNo', 'CNNt'],\r\n",
    "                    'Galaxy Type': ['E', 'E', 'ES', 'ES'],\r\n",
    "                    'Count': [califa_results[0, 1], sim_results[0, 1], califa_results[1, 1], sim_results[1, 1]]})\r\n",
    "fig = px.bar(df, x='Classifier', y='Count', color='Galaxy Type')\r\n",
    "fig.show()"
   ],
   "outputs": [],
   "metadata": {}
  },
  {
   "cell_type": "code",
   "execution_count": null,
   "source": [
    "califa_E = np.where(califa_y_pred == 0)[0].tolist()\r\n",
    "califa_ES = np.where(califa_y_pred == 1)[0].tolist()\r\n",
    "\r\n",
    "sim_E = np.where(sim_y_pred == 0)[0].tolist()\r\n",
    "sim_ES = np.where(sim_y_pred == 1)[0].tolist()\r\n",
    "\r\n",
    "califa_E_and_sim_E = np.intersect1d(califa_E, sim_E).tolist()\r\n",
    "califa_E_and_sim_ES = np.intersect1d(califa_E, sim_ES).tolist()\r\n",
    "califa_ES_and_sim_E = np.intersect1d(califa_ES, sim_E).tolist()\r\n",
    "califa_ES_and_sim_ES = np.intersect1d(califa_ES, sim_ES).tolist()\r\n",
    "\r\n",
    "print(\"Califa E & Sim E \", len(califa_E_and_sim_E))\r\n",
    "print(\"Califa E & Sim ES \",len(califa_E_and_sim_ES))\r\n",
    "print(\"Califa ES & Sim E \",len(califa_ES_and_sim_E))\r\n",
    "print(\"Califa ES & Sim ES \",len(califa_ES_and_sim_ES))\r\n",
    "#fig = px.scatter(df, x=califa_E, y=califa_E)\r\n",
    "#fig.show()"
   ],
   "outputs": [],
   "metadata": {}
  },
  {
   "cell_type": "code",
   "execution_count": null,
   "source": [
    "from sklearn import metrics\r\n",
    "metrics.ConfusionMatrixDisplay(metrics.confusion_matrix(califa_y_pred, sim_y_pred), display_labels=['CNNo', 'CNNt']).plot(cmap='Blues')"
   ],
   "outputs": [],
   "metadata": {}
  },
  {
   "cell_type": "code",
   "execution_count": null,
   "source": [
    "#print(metadata.columns)\r\n",
    "#print(metadata)\r\n",
    "#print(metadata.iloc[califa_ES][['Age', 'SFRM', 'n_g']].mean())\r\n",
    "#print(metadata.iloc[sim_ES][['Age', 'SFRM', 'n_g']].mean())\r\n",
    "\r\n",
    "\r\n",
    "#print(metadata.iloc[califa_E][['Age', 'n_g']].mean())\r\n",
    "\r\n",
    "#print(metadata.iloc[califa_ES ][['Age', 'n_g']].mean())\r\n",
    "\r\n",
    "print(metadata.iloc[califa_E]['SFRM'][metadata.iloc[califa_E]['SFRM'] != 999999.0].mean())\r\n",
    "print(metadata.iloc[califa_ES]['SFRM'][metadata.iloc[califa_ES]['SFRM'] != 999999.0].mean())\r\n"
   ],
   "outputs": [],
   "metadata": {}
  },
  {
   "cell_type": "code",
   "execution_count": null,
   "source": [
    "print(metadata.iloc[califa_E]['Age'][(metadata.iloc[califa_E]['Age'] != 999999.0) & (metadata.iloc[califa_E]['Age'] != 0.0)].mean())\r\n",
    "print(metadata.iloc[califa_ES]['Age'][(metadata.iloc[califa_ES]['Age'] != 999999.0) & (metadata.iloc[califa_ES]['Age'] != 0.0)].mean())\r\n",
    "\r\n",
    "print(metadata.iloc[sim_E]['Age'][(metadata.iloc[sim_E]['Age'] != 999999.0) & (metadata.iloc[califa_E]['Age'] != 0.0)].mean())\r\n",
    "print(metadata.iloc[sim_ES]['Age'][(metadata.iloc[sim_ES]['Age'] != 999999.0) & (metadata.iloc[califa_ES]['Age'] != 0.0)].mean())\r\n",
    "print(metadata.iloc[califa_E]['Age'].describe())"
   ],
   "outputs": [],
   "metadata": {}
  },
  {
   "cell_type": "code",
   "execution_count": null,
   "source": [
    "print(metadata.iloc[califa_E]['Age'][(metadata.iloc[califa_E]['Age'] != 999999.0) & (metadata.iloc[califa_E]['Age'] != 0.0)].describe())\r\n",
    "print(metadata.iloc[califa_ES]['Age'][(metadata.iloc[califa_ES]['Age'] != 999999.0) & (metadata.iloc[califa_ES]['Age'] != 0.0)].describe())"
   ],
   "outputs": [],
   "metadata": {}
  },
  {
   "cell_type": "code",
   "execution_count": null,
   "source": [
    "metadata.iloc[califa_E]['Age'][(metadata.iloc[califa_E]['Age'] != 999999.0) & (metadata.iloc[califa_E]['Age'] != 0.0)].hist(bins=6)"
   ],
   "outputs": [],
   "metadata": {}
  },
  {
   "cell_type": "code",
   "execution_count": null,
   "source": [
    "print(metadata.iloc[califa_E]['L_g'].describe())\r\n",
    "print(metadata.iloc[califa_E]['Rp50_g'].describe()) # divided by next line\r\n",
    "print(metadata.iloc[califa_E]['Rp90_g'].describe())\r\n",
    "print(metadata.iloc[califa_E]['Mass'].describe())\r\n",
    "print(metadata.iloc[califa_E]['bOverA'].describe())\r\n",
    "print(metadata.iloc[califa_E]['Mass_group'].describe())"
   ],
   "outputs": [],
   "metadata": {}
  },
  {
   "cell_type": "code",
   "execution_count": null,
   "source": [
    "i = 0\r\n",
    "fig, axs = plt.subplots(3, 2)\r\n",
    "fig.suptitle(\"CALIFA Model Predicted Ellipticals (E)\")\r\n",
    "metadata['col11_div_col12'] = metadata['Rp50_g'] / metadata['Rp90_g']\r\n",
    "for parameter in ['Age', 'L_g', 'col11_div_col12', 'Mass', 'bOverA', 'Mass_group']:\r\n",
    "    metadata.iloc[califa_E][parameter][(metadata.iloc[califa_E][parameter] != 999999.0) & (metadata.iloc[califa_E][parameter] > 0.0)].hist(bins=6, legend=True, ax=axs.flatten()[i], color = \"skyblue\")\r\n",
    "    i = i + 1\r\n",
    "    #plt.legend()"
   ],
   "outputs": [],
   "metadata": {}
  },
  {
   "cell_type": "code",
   "execution_count": null,
   "source": [
    "i = 0\r\n",
    "fig, axs = plt.subplots(3, 2)\r\n",
    "fig.suptitle(\"CALIFA Model Predicted Elliculars (ES)\")\r\n",
    "for parameter in ['Age', 'L_g', 'col11_div_col12', 'Mass', 'bOverA', 'Mass_group']:\r\n",
    "    metadata.iloc[califa_ES][parameter][(metadata.iloc[califa_ES][parameter] != 999999.0) & (metadata.iloc[califa_ES][parameter] > 0.0)].hist(bins=6, legend=True, ax=axs.flatten()[i], color = \"skyblue\")\r\n",
    "    i = i + 1\r\n",
    "    #plt.legend()"
   ],
   "outputs": [],
   "metadata": {}
  },
  {
   "cell_type": "code",
   "execution_count": null,
   "source": [
    "i = 0\r\n",
    "fig, axs = plt.subplots(3, 2)\r\n",
    "fig.suptitle(\"CALIFA Model ES + E Merged\")\r\n",
    "for parameter in ['Age', 'L_g', 'col11_div_col12', 'Mass', 'bOverA', 'Mass_group']:\r\n",
    "    metadata.iloc[califa_ES][parameter][(metadata.iloc[califa_ES][parameter] != 999999.0) & (metadata.iloc[califa_ES][parameter] > 0.0)].hist(bins=6, legend=True, ax=axs.flatten()[i], color = \"red\", alpha = 0.5, density=True)\r\n",
    "    metadata.iloc[califa_E][parameter][(metadata.iloc[califa_E][parameter] != 999999.0) & (metadata.iloc[califa_E][parameter] > 0.0)].hist(bins=6, legend=True, ax=axs.flatten()[i], color = \"skyblue\", alpha = 0.5, density=True)\r\n",
    "    i = i + 1\r\n",
    "    #plt.legend()"
   ],
   "outputs": [],
   "metadata": {}
  },
  {
   "cell_type": "code",
   "execution_count": null,
   "source": [
    "from matplotlib.ticker import PercentFormatter\r\n",
    "i = 0\r\n",
    "fig, axs = plt.subplots(3, 2)\r\n",
    "fig.suptitle(\"CALIFA Model ES + E Merged\")\r\n",
    "for parameter in ['Age', 'L_g', 'col11_div_col12', 'Mass', 'bOverA', 'Mass_group']:\r\n",
    "    df_ES = metadata.iloc[califa_ES][parameter][(metadata.iloc[califa_ES][parameter] != 999999.0) & (metadata.iloc[califa_ES][parameter] > 0.0)]\r\n",
    "    df_E = metadata.iloc[califa_E][parameter][(metadata.iloc[califa_E][parameter] != 999999.0) & (metadata.iloc[califa_E][parameter] > 0.0)]\r\n",
    "    axs.flatten()[i].yaxis.set_major_formatter(PercentFormatter(1))\r\n",
    "    metadata.iloc[califa_ES][parameter][(metadata.iloc[califa_ES][parameter] != 999999.0) & (metadata.iloc[califa_ES][parameter] > 0.0)].hist(bins=6, legend=True, ax=axs.flatten()[i], color = \"red\", alpha = 0.5, weights=np.ones(len(df_ES))/len(df_ES))\r\n",
    "    metadata.iloc[califa_E][parameter][(metadata.iloc[califa_E][parameter] != 999999.0) & (metadata.iloc[califa_E][parameter] > 0.0)].hist(bins=6, legend=True, ax=axs.flatten()[i], color = \"skyblue\", alpha = 0.5, weights=np.ones(len(df_E))/len(df_E))\r\n",
    "    i = i + 1\r\n",
    "    #plt.legend()"
   ],
   "outputs": [],
   "metadata": {}
  }
 ],
 "metadata": {
  "kernelspec": {
   "name": "python3",
   "display_name": "Python 3.9.5 64-bit ('hon-tf-2.5.0': conda)"
  },
  "language_info": {
   "codemirror_mode": {
    "name": "ipython",
    "version": 3
   },
   "file_extension": ".py",
   "mimetype": "text/x-python",
   "name": "python",
   "nbconvert_exporter": "python",
   "pygments_lexer": "ipython3",
   "version": "3.9.5"
  },
  "interpreter": {
   "hash": "b20f78c8b161c2d28d097599ec49d232bad73a67c2dd6ab644d3da97e4813ebf"
  }
 },
 "nbformat": 4,
 "nbformat_minor": 5
}
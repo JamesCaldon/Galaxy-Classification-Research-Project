{
 "cells": [
  {
   "cell_type": "code",
   "execution_count": 1,
   "source": [
    "import tensorflow as tf\r\n",
    "import utility.initialize_tf\r\n",
    "from custom_models.gamornet_keras_module import *\r\n",
    "from utility.data_loading import *\r\n",
    "import numpy as np\r\n",
    "from sklearn.model_selection import train_test_split\r\n",
    "from utility.display_prediction_results import *"
   ],
   "outputs": [
    {
     "output_type": "stream",
     "name": "stdout",
     "text": [
      "2.5.0\n",
      "2.5.0\n"
     ]
    }
   ],
   "metadata": {}
  },
  {
   "cell_type": "code",
   "execution_count": 2,
   "source": [
    "training_data = \"fd=0.3-0.7_hdf5\"\r\n",
    "transfer_data = \"califa_s_1.0\"\r\n",
    "testing_data = \"nair_abraham_2010_hdf5\""
   ],
   "outputs": [],
   "metadata": {}
  },
  {
   "cell_type": "code",
   "execution_count": 3,
   "source": [
    "x_dataset, y_dataset, metadata = utility.data_loading.load_hdf5_data(name=training_data)\r\n",
    "x_dataset = np.expand_dims(x_dataset, axis=1)\r\n",
    "y_dataset = np.expand_dims(y_dataset, axis=1)\r\n",
    "input_shape = x_dataset.shape[1:]"
   ],
   "outputs": [
    {
     "output_type": "stream",
     "name": "stderr",
     "text": [
      "E:\\Anaconda3\\envs\\hon-tf-2.5.0\\lib\\site-packages\\tables\\path.py:155: NaturalNameWarning: object name is a Python keyword: 'class'; you will not be able to use natural naming to access this object; using ``getattr()`` will still work, though\n",
      "  check_attribute_name(name)\n"
     ]
    },
    {
     "output_type": "stream",
     "name": "stdout",
     "text": [
      "(54000, 100, 100)\n"
     ]
    }
   ],
   "metadata": {}
  },
  {
   "cell_type": "code",
   "execution_count": 4,
   "source": [
    "base_model = gamornet_build_model_keras(input_shape=input_shape)"
   ],
   "outputs": [],
   "metadata": {}
  },
  {
   "cell_type": "code",
   "execution_count": 5,
   "source": [
    "base_model.summary()"
   ],
   "outputs": [
    {
     "output_type": "stream",
     "name": "stdout",
     "text": [
      "Model: \"sequential\"\n",
      "_________________________________________________________________\n",
      "Layer (type)                 Output Shape              Param #   \n",
      "=================================================================\n",
      "conv2d (Conv2D)              (None, 1, 25, 96)         1161696   \n",
      "_________________________________________________________________\n",
      "max_pooling2d (MaxPooling2D) (None, 1, 13, 96)         0         \n",
      "_________________________________________________________________\n",
      "local_response_normalization (None, 1, 13, 96)         0         \n",
      "_________________________________________________________________\n",
      "conv2d_1 (Conv2D)            (None, 1, 13, 256)        614656    \n",
      "_________________________________________________________________\n",
      "max_pooling2d_1 (MaxPooling2 (None, 1, 7, 256)         0         \n",
      "_________________________________________________________________\n",
      "local_response_normalization (None, 1, 7, 256)         0         \n",
      "_________________________________________________________________\n",
      "conv2d_2 (Conv2D)            (None, 1, 7, 384)         885120    \n",
      "_________________________________________________________________\n",
      "conv2d_3 (Conv2D)            (None, 1, 7, 384)         1327488   \n",
      "_________________________________________________________________\n",
      "conv2d_4 (Conv2D)            (None, 1, 7, 256)         884992    \n",
      "_________________________________________________________________\n",
      "max_pooling2d_2 (MaxPooling2 (None, 1, 4, 256)         0         \n",
      "_________________________________________________________________\n",
      "local_response_normalization (None, 1, 4, 256)         0         \n",
      "_________________________________________________________________\n",
      "flatten (Flatten)            (None, 1024)              0         \n",
      "_________________________________________________________________\n",
      "dense (Dense)                (None, 4096)              4198400   \n",
      "_________________________________________________________________\n",
      "dropout (Dropout)            (None, 4096)              0         \n",
      "_________________________________________________________________\n",
      "dense_1 (Dense)              (None, 4096)              16781312  \n",
      "_________________________________________________________________\n",
      "dropout_1 (Dropout)          (None, 4096)              0         \n",
      "_________________________________________________________________\n",
      "dense_2 (Dense)              (None, 3)                 12291     \n",
      "=================================================================\n",
      "Total params: 25,865,955\n",
      "Trainable params: 25,865,955\n",
      "Non-trainable params: 0\n",
      "_________________________________________________________________\n"
     ]
    }
   ],
   "metadata": {}
  },
  {
   "cell_type": "code",
   "execution_count": 6,
   "source": [
    "x_train, x_val, y_train, y_val = train_test_split(x_dataset, y_dataset, shuffle=True, train_size=0.8)\r\n",
    "trained_model = gamornet_train_keras(x_train, y_train, x_val, y_val, input_shape=input_shape)"
   ],
   "outputs": [
    {
     "output_type": "stream",
     "name": "stdout",
     "text": [
      "Epoch 1/100\n",
      "675/675 [==============================] - 76s 49ms/step - loss: 0.7355 - accuracy: 0.4961 - val_loss: 0.7010 - val_accuracy: 0.5051\n",
      "Epoch 2/100\n",
      "675/675 [==============================] - 26s 38ms/step - loss: 0.7101 - accuracy: 0.5007 - val_loss: 0.6985 - val_accuracy: 0.4949\n",
      "Epoch 3/100\n",
      "675/675 [==============================] - 25s 37ms/step - loss: 0.7055 - accuracy: 0.5024 - val_loss: 0.6972 - val_accuracy: 0.5051\n",
      "Epoch 4/100\n",
      "675/675 [==============================] - 25s 37ms/step - loss: 0.7025 - accuracy: 0.5081 - val_loss: 0.6965 - val_accuracy: 0.4949\n",
      "Epoch 5/100\n",
      "675/675 [==============================] - 26s 39ms/step - loss: 0.7014 - accuracy: 0.5056 - val_loss: 0.6949 - val_accuracy: 0.4949\n",
      "Epoch 6/100\n",
      "675/675 [==============================] - 25s 37ms/step - loss: 0.6996 - accuracy: 0.5080 - val_loss: 0.6937 - val_accuracy: 0.5138\n",
      "Epoch 7/100\n",
      "675/675 [==============================] - 25s 37ms/step - loss: 0.6975 - accuracy: 0.5165 - val_loss: 0.6919 - val_accuracy: 0.6207\n",
      "Epoch 8/100\n",
      "675/675 [==============================] - 25s 37ms/step - loss: 0.6960 - accuracy: 0.5193 - val_loss: 0.6906 - val_accuracy: 0.5051\n",
      "Epoch 9/100\n",
      "675/675 [==============================] - 25s 37ms/step - loss: 0.6935 - accuracy: 0.5287 - val_loss: 0.6884 - val_accuracy: 0.6454\n",
      "Epoch 10/100\n",
      "675/675 [==============================] - 25s 37ms/step - loss: 0.6916 - accuracy: 0.5349 - val_loss: 0.6867 - val_accuracy: 0.5621\n",
      "Epoch 11/100\n",
      "675/675 [==============================] - 25s 37ms/step - loss: 0.6894 - accuracy: 0.5430 - val_loss: 0.6827 - val_accuracy: 0.6615\n",
      "Epoch 12/100\n",
      "675/675 [==============================] - 25s 36ms/step - loss: 0.6844 - accuracy: 0.5621 - val_loss: 0.6776 - val_accuracy: 0.6592\n",
      "Epoch 13/100\n",
      "583/675 [========================>.....] - ETA: 3s - loss: 0.6800 - accuracy: 0.5758"
     ]
    }
   ],
   "metadata": {}
  },
  {
   "cell_type": "code",
   "execution_count": null,
   "source": [
    "x_transfer, y_transfer, transfer_metadata = load_hdf5_data(transfer_data)\r\n",
    "x_transfer = np.expand_dims(x_transfer, axis=1)\r\n",
    "y_transfer = np.expand_dims(y_transfer, axis=1)\r\n",
    "input_shape = x_transfer.shape[1:]\r\n",
    "transfer_datagen = create_datagen(x_transfer)\r\n",
    "transferred_model, transfer_history = gamornet_tl_keras(transfer_datagen, input_shape = input_shape, load_layers_bools=\"load_bools_SDSS\", trainable_bools=\"train_bools_SDSS\", \r\n",
    "    files_save_path=\"./saved_models/gamornet/\", batch_size=32, loss='sparse_categorical_crossentropy')\r\n",
    "plot_evaluation_results(transfer_history)\r\n",
    "transferred_model.save(\"./saved_models/gamornet/transferred_model.hdf5\")"
   ],
   "outputs": [],
   "metadata": {}
  },
  {
   "cell_type": "code",
   "execution_count": null,
   "source": [
    "tuned_model, tuning_history = gamornet_tl_keras(transfer_datagen, input_shape = input_shape, load_layers_bools=\"load_bools_SDSS\", trainable_bools=\"train_bools_SDSS\", \r\n",
    "    files_save_path=\"./saved_models/gamornet/\", batch_size=32, loss='sparse_categorical_crossentropy', epochs=10)\r\n",
    "plot_evaluation_results(tuning_history)\r\n",
    "tuned_model.save(\"./saved_models/gamornet/tuned_model.hdf5\")"
   ],
   "outputs": [],
   "metadata": {}
  }
 ],
 "metadata": {
  "kernelspec": {
   "name": "python3",
   "display_name": "Python 3.9.5 64-bit ('hon-tf-2.5.0': conda)"
  },
  "language_info": {
   "name": "python",
   "version": "3.9.5",
   "mimetype": "text/x-python",
   "codemirror_mode": {
    "name": "ipython",
    "version": 3
   },
   "pygments_lexer": "ipython3",
   "nbconvert_exporter": "python",
   "file_extension": ".py"
  },
  "interpreter": {
   "hash": "b20f78c8b161c2d28d097599ec49d232bad73a67c2dd6ab644d3da97e4813ebf"
  }
 },
 "nbformat": 4,
 "nbformat_minor": 5
}
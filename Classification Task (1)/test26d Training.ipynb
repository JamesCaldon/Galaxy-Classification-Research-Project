{
 "cells": [
  {
   "cell_type": "code",
   "execution_count": 13,
   "metadata": {},
   "outputs": [],
   "source": [
    "import keras\n",
    "from keras.datasets import mnist\n",
    "from keras.models import Sequential\n",
    "from keras.layers import Dense, Dropout, Flatten\n",
    "from keras.layers import Conv2D, MaxPooling2D\n",
    "from keras import backend as K\n",
    "from keras.utils import np_utils\n",
    "from keras.models import model_from_json\n",
    "import keras.callbacks\n",
    "import numpy as np\n",
    "#import keras.backend.tensorflow_backend as KTF\n",
    "#import tensorflow as tf\n",
    "import os.path"
   ]
  },
  {
   "cell_type": "code",
   "execution_count": 14,
   "metadata": {},
   "outputs": [
    {
     "name": "stdout",
     "output_type": "stream",
     "text": [
      "nmodel 2458\n"
     ]
    }
   ],
   "source": [
    "### Total model number = (nmodle0) * nmodel\n",
    "\n",
    "#iset=int(input('Input the total number of sets of models '))\n",
    "#nmodel0=int(input('Input the total number of images per model'))\n",
    "#nmodel=nmodel0*iset\n",
    "nmodel=2458\n",
    "print('nmodel',nmodel)"
   ]
  },
  {
   "cell_type": "code",
   "execution_count": 15,
   "metadata": {},
   "outputs": [
    {
     "name": "stdout",
     "output_type": "stream",
     "text": [
      "nmodel 2458\n",
      "num_classes 3\n"
     ]
    }
   ],
   "source": [
    "### Original values\n",
    "#batch_size = 128\n",
    "#num_classes = 10\n",
    "#epochs = 30\n",
    "batch_size = 100\n",
    "#num_classes = 5\n",
    "num_classes = 3\n",
    "epochs = 30\n",
    "nb_epoch=epochs\n",
    "n_mesh=50\n",
    "#nmodel=1000\n",
    "print('nmodel', nmodel)\n",
    "print('num_classes', num_classes)\n"
   ]
  },
  {
   "cell_type": "code",
   "execution_count": 16,
   "metadata": {},
   "outputs": [],
   "source": [
    "img_rows, img_cols = n_mesh, n_mesh\n",
    "n_mesh2=n_mesh*n_mesh-1\n",
    "n_mesh3=n_mesh*n_mesh"
   ]
  },
  {
   "cell_type": "code",
   "execution_count": 17,
   "metadata": {},
   "outputs": [
    {
     "name": "stdout",
     "output_type": "stream",
     "text": [
      "50 50 2499\n"
     ]
    }
   ],
   "source": [
    "print(img_rows, img_cols, n_mesh2)\n",
    "#stop"
   ]
  },
  {
   "cell_type": "code",
   "execution_count": 18,
   "metadata": {},
   "outputs": [
    {
     "name": "stdout",
     "output_type": "stream",
     "text": [
      "(50, 50, 1)\n"
     ]
    }
   ],
   "source": [
    "#(x_train, y_train), (x_test, y_test) = mnist.load_data()\n",
    "#x_train = x_train.reshape(x_train.shape[0], img_rows, img_cols, 1)\n",
    "#x_test = x_test.reshape(x_test.shape[0], img_rows, img_cols, 1)\n",
    "\n",
    "input_shape = (img_rows, img_cols, 1)\n",
    "print(input_shape)"
   ]
  },
  {
   "cell_type": "code",
   "execution_count": 19,
   "metadata": {},
   "outputs": [],
   "source": [
    "#x_train = x_train.astype('float32')\n",
    "#x_test = x_test.astype('float32')\n",
    "#x_train /= 255\n",
    "#x_test /= 255\n",
    "#print('x_train shape:', x_train.shape)\n",
    "#print(x_train.shape[0], 'train samples')\n",
    "#print(x_test.shape[0], 'test samples')\n",
    "#print(y_test.shape[0], 'y.test samples')\n",
    "#print(str(y_test[0]))\n",
    "#print(str(y_test[1]))\n",
    "#print(str(y_test[2]))\n",
    "\n",
    "#y_train = y_train.astype('int32')\n",
    "#y_test = y_test.astype('int32')\n",
    "#y_train = keras.utils.np_utils.to_categorical(y_train, num_classes)\n",
    "#y_test =  keras.utils.np_utils.to_categorical(y_test, num_classes)"
   ]
  },
  {
   "cell_type": "code",
   "execution_count": 20,
   "metadata": {},
   "outputs": [],
   "source": [
    "# This is for simlation data sets\n",
    "\n",
    "with open('2dft.dat') as f: # Image files\n",
    "  lines=f.readlines()\n",
    "with open('2dftn.dat') as f: # Labels\n",
    "  lines1=f.readlines()"
   ]
  },
  {
   "cell_type": "code",
   "execution_count": 21,
   "metadata": {},
   "outputs": [],
   "source": [
    "x_train=np.zeros((nmodel,n_mesh3))\n",
    "x_test=np.zeros((nmodel,n_mesh3))\n",
    "y_train=np.zeros(nmodel,dtype=np.int)\n",
    "y_test=np.zeros(nmodel,dtype=np.int)\n",
    "#y_test=np.zeros(nmodel)\n",
    "#print(y_train)"
   ]
  },
  {
   "cell_type": "code",
   "execution_count": 22,
   "metadata": {},
   "outputs": [],
   "source": [
    "# For 2D density map data\n",
    "ibin=0\n",
    "jbin=-1\n",
    "for num,j in enumerate(lines):\n",
    "  jbin=jbin+1\n",
    "  tm=j.strip().split()\n",
    "  x_train[ibin,jbin]=float(tm[0])\n",
    "  x_test[ibin,jbin]=float(tm[0])\n",
    "#  print('ibin,jbin',ibin,jbin)\n",
    "  if jbin == n_mesh2:\n",
    "    ibin+=1\n",
    "    jbin=-1"
   ]
  },
  {
   "cell_type": "code",
   "execution_count": 23,
   "metadata": {},
   "outputs": [],
   "source": [
    "# For morphological map\n",
    "ibin=0\n",
    "for num,j in enumerate(lines1):\n",
    "  tm=j.strip().split()\n",
    "  y_train[ibin]=int(tm[0])-1\n",
    "  y_test[ibin]=int(tm[0])-1\n",
    "  #print('ibin, (Morpholigcl type)',ibin,y_train[ibin])\n",
    "  ibin+=1"
   ]
  },
  {
   "cell_type": "code",
   "execution_count": 24,
   "metadata": {},
   "outputs": [
    {
     "name": "stdout",
     "output_type": "stream",
     "text": [
      "(2458, 50, 50, 1)\n",
      "(2458, 50, 50, 1)\n",
      "[0 0 0 ... 2 2 2]\n",
      "(2458, 3)\n",
      "(2458, 3)\n",
      "Galaxy type [[1. 0. 0.]\n",
      " [1. 0. 0.]\n",
      " [1. 0. 0.]\n",
      " ...\n",
      " [0. 0. 1.]\n",
      " [0. 0. 1.]\n",
      " [0. 0. 1.]]\n"
     ]
    }
   ],
   "source": [
    "x_train = x_train.reshape(x_train.shape[0], img_rows, img_cols, 1)\n",
    "x_test = x_test.reshape(x_test.shape[0], img_rows, img_cols, 1)\n",
    "\n",
    "print(x_train.shape)\n",
    "print(x_test.shape)\n",
    "\n",
    "print(y_train)\n",
    "\n",
    "y_train = keras.utils.np_utils.to_categorical(y_train, num_classes)\n",
    "y_test =  keras.utils.np_utils.to_categorical(y_test, num_classes)\n",
    "\n",
    "print(y_train.shape)\n",
    "print(y_test.shape)\n",
    "\n",
    "print('Galaxy type',y_train)"
   ]
  },
  {
   "cell_type": "code",
   "execution_count": 13,
   "metadata": {},
   "outputs": [
    {
     "name": "stdout",
     "output_type": "stream",
     "text": [
      "Epoch 1/30\n",
      "25/25 [==============================] - 3s 60ms/step - loss: 1.0896 - accuracy: 0.4127 - val_loss: 1.0751 - val_accuracy: 0.3344\n",
      "Epoch 2/30\n",
      "25/25 [==============================] - 1s 22ms/step - loss: 1.0744 - accuracy: 0.4556 - val_loss: 1.0594 - val_accuracy: 0.6041\n",
      "Epoch 3/30\n",
      "25/25 [==============================] - 1s 22ms/step - loss: 1.0598 - accuracy: 0.4790 - val_loss: 1.0444 - val_accuracy: 0.6680\n",
      "Epoch 4/30\n",
      "25/25 [==============================] - 1s 22ms/step - loss: 1.0422 - accuracy: 0.5065 - val_loss: 1.0294 - val_accuracy: 0.6680\n",
      "Epoch 5/30\n",
      "25/25 [==============================] - 1s 22ms/step - loss: 1.0296 - accuracy: 0.5313 - val_loss: 1.0134 - val_accuracy: 0.6680\n",
      "Epoch 6/30\n",
      "25/25 [==============================] - 1s 22ms/step - loss: 1.0174 - accuracy: 0.5452 - val_loss: 0.9977 - val_accuracy: 0.6680\n",
      "Epoch 7/30\n",
      "25/25 [==============================] - 1s 30ms/step - loss: 1.0002 - accuracy: 0.6038 - val_loss: 0.9825 - val_accuracy: 0.6680\n",
      "Epoch 8/30\n",
      "25/25 [==============================] - 1s 23ms/step - loss: 0.9853 - accuracy: 0.5853 - val_loss: 0.9683 - val_accuracy: 0.6680\n",
      "Epoch 9/30\n",
      "25/25 [==============================] - 1s 24ms/step - loss: 0.9699 - accuracy: 0.6254 - val_loss: 0.9547 - val_accuracy: 0.6680\n",
      "Epoch 10/30\n",
      "25/25 [==============================] - 1s 24ms/step - loss: 0.9577 - accuracy: 0.6438 - val_loss: 0.9413 - val_accuracy: 0.6680\n",
      "Epoch 11/30\n",
      "25/25 [==============================] - 1s 24ms/step - loss: 0.9485 - accuracy: 0.6807 - val_loss: 0.9281 - val_accuracy: 0.6680\n",
      "Epoch 12/30\n",
      "25/25 [==============================] - 1s 27ms/step - loss: 0.9325 - accuracy: 0.6590 - val_loss: 0.9151 - val_accuracy: 0.6680\n",
      "Epoch 13/30\n",
      "25/25 [==============================] - 1s 26ms/step - loss: 0.9198 - accuracy: 0.6706 - val_loss: 0.9025 - val_accuracy: 0.6680\n",
      "Epoch 14/30\n",
      "25/25 [==============================] - 1s 24ms/step - loss: 0.9078 - accuracy: 0.6803 - val_loss: 0.8901 - val_accuracy: 0.6680\n",
      "Epoch 15/30\n",
      "25/25 [==============================] - 1s 28ms/step - loss: 0.8962 - accuracy: 0.6770 - val_loss: 0.8782 - val_accuracy: 0.6680\n",
      "Epoch 16/30\n",
      "25/25 [==============================] - 1s 24ms/step - loss: 0.8862 - accuracy: 0.6705 - val_loss: 0.8668 - val_accuracy: 0.6680\n",
      "Epoch 17/30\n",
      "25/25 [==============================] - 1s 25ms/step - loss: 0.8738 - accuracy: 0.6768 - val_loss: 0.8557 - val_accuracy: 0.6680\n",
      "Epoch 18/30\n",
      "25/25 [==============================] - 1s 25ms/step - loss: 0.8684 - accuracy: 0.6615 - val_loss: 0.8450 - val_accuracy: 0.7010\n",
      "Epoch 19/30\n",
      "25/25 [==============================] - 1s 25ms/step - loss: 0.8539 - accuracy: 0.6687 - val_loss: 0.8346 - val_accuracy: 0.7018\n",
      "Epoch 20/30\n",
      "25/25 [==============================] - 1s 27ms/step - loss: 0.8487 - accuracy: 0.6667 - val_loss: 0.8244 - val_accuracy: 0.6697\n",
      "Epoch 21/30\n",
      "25/25 [==============================] - 1s 24ms/step - loss: 0.8331 - accuracy: 0.6890 - val_loss: 0.8146 - val_accuracy: 0.6513\n",
      "Epoch 22/30\n",
      "25/25 [==============================] - 1s 23ms/step - loss: 0.8233 - accuracy: 0.6763 - val_loss: 0.8047 - val_accuracy: 0.6688\n",
      "Epoch 23/30\n",
      "25/25 [==============================] - 1s 25ms/step - loss: 0.8148 - accuracy: 0.6809 - val_loss: 0.7950 - val_accuracy: 0.6688\n",
      "Epoch 24/30\n",
      "25/25 [==============================] - 1s 25ms/step - loss: 0.8065 - accuracy: 0.6805 - val_loss: 0.7857 - val_accuracy: 0.6688\n",
      "Epoch 25/30\n",
      "25/25 [==============================] - 1s 31ms/step - loss: 0.8013 - accuracy: 0.6531 - val_loss: 0.7766 - val_accuracy: 0.6688\n",
      "Epoch 26/30\n",
      "25/25 [==============================] - 1s 38ms/step - loss: 0.7885 - accuracy: 0.6634 - val_loss: 0.7674 - val_accuracy: 0.6705\n",
      "Epoch 27/30\n",
      "25/25 [==============================] - 1s 26ms/step - loss: 0.7817 - accuracy: 0.6676 - val_loss: 0.7584 - val_accuracy: 0.6758\n",
      "Epoch 28/30\n",
      "25/25 [==============================] - 1s 25ms/step - loss: 0.7717 - accuracy: 0.6552 - val_loss: 0.7496 - val_accuracy: 0.6810\n",
      "Epoch 29/30\n",
      "25/25 [==============================] - 1s 24ms/step - loss: 0.7670 - accuracy: 0.6708 - val_loss: 0.7408 - val_accuracy: 0.6835\n",
      "Epoch 30/30\n",
      "25/25 [==============================] - 1s 24ms/step - loss: 0.7577 - accuracy: 0.6717 - val_loss: 0.7323 - val_accuracy: 0.7002\n",
      "Test score: 0.7323397397994995\n",
      "Test accuracy: 0.7001627087593079\n"
     ]
    }
   ],
   "source": [
    "#stop\n",
    "\n",
    "model = Sequential()\n",
    "model.add(Conv2D(32, kernel_size=(3, 3),\n",
    "                 activation='relu',\n",
    "                 input_shape=input_shape))\n",
    "model.add(Conv2D(64, (3, 3), activation='relu'))\n",
    "model.add(MaxPooling2D(pool_size=(2, 2)))\n",
    "model.add(Dropout(0.25))\n",
    "model.add(Flatten())\n",
    "model.add(Dense(128, activation='relu'))\n",
    "model.add(Dropout(0.5))\n",
    "model.add(Dense(num_classes, activation='softmax'))\n",
    "\n",
    "model.compile(loss=keras.losses.categorical_crossentropy,\n",
    "              optimizer=keras.optimizers.Adadelta(),\n",
    "              metrics=['accuracy'])\n",
    "\n",
    "model.fit(x_train, y_train, batch_size=batch_size, epochs=epochs,\n",
    "          verbose=1, validation_data=(x_test, y_test))\n",
    "\n",
    "score = model.evaluate(x_test, y_test, verbose=0)\n",
    "print('Test score:', score[0])\n",
    "print('Test accuracy:', score[1])"
   ]
  },
  {
   "cell_type": "code",
   "execution_count": 14,
   "metadata": {},
   "outputs": [
    {
     "name": "stdout",
     "output_type": "stream",
     "text": [
      "save the architecture of a model\n",
      "Saved model to disk\n"
     ]
    }
   ],
   "source": [
    "print('save the architecture of a model')\n",
    "\n",
    "model_json = model.to_json()\n",
    "with open(\"model.json\", \"w\") as json_file:\n",
    "    json_file.write(model_json)\n",
    "\n",
    "# serialize weights to HDF5\n",
    "model.save_weights(\"model.h5\")\n",
    "print(\"Saved model to disk\")\n"
   ]
  },
  {
   "cell_type": "code",
   "execution_count": 15,
   "metadata": {},
   "outputs": [
    {
     "name": "stdout",
     "output_type": "stream",
     "text": [
      "Num GPUs Available:  1\n"
     ]
    }
   ],
   "source": [
    "import tensorflow as tf\n",
    "print(\"Num GPUs Available: \", len(tf.config.experimental.list_physical_devices('GPU')))\n"
   ]
  },
  {
   "cell_type": "code",
   "execution_count": null,
   "metadata": {},
   "outputs": [],
   "source": []
  }
 ],
 "metadata": {
  "kernelspec": {
   "display_name": "honours",
   "language": "python",
   "name": "honours"
  },
  "language_info": {
   "codemirror_mode": {
    "name": "ipython",
    "version": 3
   },
   "file_extension": ".py",
   "mimetype": "text/x-python",
   "name": "python",
   "nbconvert_exporter": "python",
   "pygments_lexer": "ipython3",
   "version": "3.8.8"
  }
 },
 "nbformat": 4,
 "nbformat_minor": 4
}

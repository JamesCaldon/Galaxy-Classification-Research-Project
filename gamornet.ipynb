{
 "cells": [
  {
   "cell_type": "code",
   "execution_count": 1,
   "metadata": {},
   "outputs": [
    {
     "name": "stdout",
     "output_type": "stream",
     "text": [
      "2.5.0\n",
      "2.5.0\n"
     ]
    }
   ],
   "source": [
    "import tensorflow as tf\n",
    "from utility.initialize_tf import *\n",
    "from custom_models.gamornet_keras_module import *\n",
    "from utility.data_loading import *\n",
    "import numpy as np\n",
    "from sklearn.model_selection import train_test_split, StratifiedShuffleSplit\n",
    "from utility.display_prediction_results import *\n",
    "from utility.data_preprocessing import *"
   ]
  },
  {
   "cell_type": "code",
   "execution_count": 2,
   "metadata": {},
   "outputs": [],
   "source": [
    "training_data = \"fd=0.3-0.7_hdf5\"\n",
    "transfer_data = \"califa_s_1.0\"\n",
    "transfer_validation_split = 0.5\n",
    "testing_data = \"nair_abraham_2010_hdf5\"\n",
    "\n",
    "#trained_model_path = f\"./saved_models/result_models/gamornet/trained_model_with_reg.hdf5\"\n",
    "trained_model_path = f'.\\\\saved_models\\\\result_models\\\\final\\\\gamornet\\\\sim_with_gaussian_noise\\\\trained_model_with_reg_new.hdf5'\n",
    "transferred_model_path = f\"./saved_models/result_models/final/gamornet/transfer_learning/transferred_model_with_reg_vs={transfer_validation_split}\"\n",
    "tuned_model_path = f\"./saved_models/result_models/finalgamornet/transfer_learning/tuned_model_with_reg_vs={transfer_validation_split}\""
   ]
  },
  {
   "cell_type": "code",
   "execution_count": null,
   "metadata": {},
   "outputs": [],
   "source": [
    "x_test, y_test, metadata = load_hdf5_data(name=testing_data)\n",
    "x_test = np.expand_dims(x_test, axis=3)\n",
    "y_test = np.expand_dims(y_test, axis=1)\n",
    "\n",
    "sss = StratifiedShuffleSplit(n_splits=3, train_size=transfer_validation_split, random_state=2021)\n",
    "#print(sss.get_n_splits(x_test, y_test))"
   ]
  },
  {
   "cell_type": "code",
   "execution_count": null,
   "metadata": {},
   "outputs": [],
   "source": [
    "x_dataset, y_dataset, metadata = load_hdf5_data(name=training_data)\n",
    "add_point_sources(x_dataset)\n",
    "add_background_galaxies(x_dataset)\n",
    "#apply_gaussian_PSF(x_dataset, 0.218598726) # General Gaussian PSF 0.218598726 0.573292215 1.3 20.84 8.85\n",
    "add_gaussian_noise(x_dataset, noise_range=[0.01, 0.02])\n",
    "apply_moffat_PSF(x_dataset, 4.148122, 4.765) #4.765 #g 0.65049197562297747917932881055243\n",
    "#apply_gaussian_PSF(x_dataset, 0.02)\n",
    "#apply_gaussian_PSF(x_dataset, 0.218598726)"
   ]
  },
  {
   "cell_type": "code",
   "execution_count": null,
   "metadata": {},
   "outputs": [],
   "source": [
    "x_dataset = np.expand_dims(x_dataset, axis=3)\n",
    "y_dataset = np.expand_dims(y_dataset, axis=1)\n",
    "input_shape = x_dataset.shape[1:]\n",
    "print(input_shape)"
   ]
  },
  {
   "cell_type": "code",
   "execution_count": null,
   "metadata": {},
   "outputs": [],
   "source": [
    "base_model = gamornet_build_model_keras(input_shape=input_shape)"
   ]
  },
  {
   "cell_type": "code",
   "execution_count": null,
   "metadata": {},
   "outputs": [],
   "source": [
    "base_model.summary()"
   ]
  },
  {
   "cell_type": "code",
   "execution_count": null,
   "metadata": {},
   "outputs": [],
   "source": [
    "x_transfer, y_transfer, transfer_metadata = load_hdf5_data(transfer_data)\n",
    "x_transfer = np.expand_dims(x_transfer, axis=3)\n",
    "y_transfer = np.expand_dims(y_transfer, axis=1).astype(np.int32)\n",
    "input_shape = x_transfer.shape[1:]\n",
    "print(input_shape)\n",
    "\n",
    "early_stopping_callback = ReturnBestEarlyStopping(monitor='val_sparse_categorical_accuracy', patience=50, restore_best_weights=True)\n",
    "# x_train, x_val, y_train, y_val = train_test_split(x_dataset, y_dataset, shuffle=True, train_size=0.8, random_state=2021)\n",
    "# _, x_val, _, y_val = train_test_split(x_transfer, y_transfer, shuffle=True, train_size=transfer_validation_split, random_state=2021)\n",
    "\n",
    "x_train, x_val, y_train, y_val = train_test_split(x_dataset, y_dataset, shuffle=True, train_size=0.7, random_state=2021, stratify=y_dataset)\n",
    "x_val, x_test, y_val, y_test = train_test_split(x_val, y_val, shuffle=True, train_size=2/3, random_state=2021, stratify=y_val)\n",
    "\n",
    "trained_model, train_history = gamornet_train_keras(x_train, y_train, x_val, y_val, input_shape=input_shape, epochs=200, callbacks=[early_stopping_callback], batch_size=256, lr=0.0005, decay=0.001)\n",
    "plot_learning_curves(train_history)\n",
    "trained_model.save(trained_model_path)\n",
    "plot_model_results(trained_model, x_train, y_train, x_val, y_val, x_transfer, y_transfer)\n",
    "#early_stopping_callback = tf.keras.callbacks.EarlyStopping(monitor='val_sparse_categorical_accuracy', patience=2500, restore_best_weights=True)\n",
    "\n",
    "\n"
   ]
  },
  {
   "cell_type": "code",
   "execution_count": 3,
   "metadata": {},
   "outputs": [
    {
     "name": "stdout",
     "output_type": "stream",
     "text": [
      "(79, 100, 100)\n",
      "(100, 100, 1)\n"
     ]
    },
    {
     "name": "stderr",
     "output_type": "stream",
     "text": [
      "E:\\Anaconda3\\envs\\hon-tf-2.5.0\\lib\\site-packages\\tables\\path.py:155: NaturalNameWarning: object name is a Python keyword: 'class'; you will not be able to use natural naming to access this object; using ``getattr()`` will still work, though\n",
      "  check_attribute_name(name)\n"
     ]
    }
   ],
   "source": [
    "early_stopping_callback = ReturnBestEarlyStopping(monitor='val_sparse_categorical_accuracy', patience=4900, restore_best_weights=True, verbose=1)\n",
    "\n",
    "x_transfer, y_transfer, transfer_metadata = load_hdf5_data(transfer_data)\n",
    "x_transfer = np.expand_dims(x_transfer, axis=3)\n",
    "y_transfer = np.expand_dims(y_transfer, axis=1).astype(np.int32)\n",
    "input_shape = x_transfer.shape[1:]\n",
    "print(input_shape)\n",
    "\n",
    "# x_train, x_val, y_train, y_val = train_test_split(x_transfer, y_transfer, shuffle=True, train_size=transfer_validation_split, random_state=2021)\n",
    "\n",
    "# train_datagen = create_datagen(x_train)\n",
    "# val_datagen = create_datagen(x_val)\n",
    "# print(y_val[:5])"
   ]
  },
  {
   "cell_type": "code",
   "execution_count": null,
   "metadata": {},
   "outputs": [],
   "source": [
    "for train_index, val_index in sss.split(x_transfer, y_transfer):\n",
    "    plot_testing_results(trained_model.predict(x_transfer[val_index]).argmax(axis=1), y_transfer[val_index])"
   ]
  },
  {
   "cell_type": "code",
   "execution_count": null,
   "metadata": {},
   "outputs": [],
   "source": [
    "# def create_datagen(subset):\n",
    "#     from tensorflow.keras.preprocessing.image import ImageDataGenerator\n",
    "\n",
    "#     datagen = ImageDataGenerator(\n",
    "#         horizontal_flip=True,\n",
    "#         vertical_flip=True,\n",
    "#         #width_shift_range=0.2,\n",
    "#         #height_shift_range=0.2,\n",
    "#         zoom_range=[0.8, 1.2],\n",
    "#         rotation_range=45,\n",
    "#         fill_mode='wrap',\n",
    "#         #cval = 0\n",
    "#         #validation_split = 0.2\n",
    "#     )\n",
    "#     datagen.fit(subset)\n",
    "#     return datagen"
   ]
  },
  {
   "cell_type": "code",
   "execution_count": null,
   "metadata": {},
   "outputs": [],
   "source": [
    "# for i, (train_index, val_index) in enumerate(sss.split(x_transfer, y_transfer)):\n",
    "#     train_datagen = create_datagen(x_transfer[train_index])\n",
    "#     imgs = train_datagen.flow(x_transfer[train_index], y_transfer[train_index], batch_size=1024).next()\n",
    "#     print(len(imgs[0]))\n",
    "#     break"
   ]
  },
  {
   "cell_type": "markdown",
   "metadata": {},
   "source": [
    "# Transfer Learning"
   ]
  },
  {
   "cell_type": "code",
   "execution_count": null,
   "metadata": {},
   "outputs": [],
   "source": [
    "#trained_model_path = f\"./saved_models/result_models/final/gamornet/sim_with_gaussian_noise/trained_model_with_gaussian_noise.hdf5\"# REMOVE!!!\n",
    "early_stopping_callback = ReturnBestEarlyStopping(monitor='val_sparse_categorical_accuracy', patience=4500, restore_best_weights=True)\n",
    "\n",
    "for i, (train_index, val_index) in enumerate(sss.split(x_transfer, y_transfer)):\n",
    "    train_datagen = create_datagen(x_transfer[train_index])\n",
    "    val_datagen = create_datagen(x_transfer[val_index])\n",
    "    transferred_model, transfer_history = gamornet_tl_keras(train_datagen, x_transfer[train_index], y_transfer[train_index], val_datagen, x_transfer[val_index], y_transfer[val_index], \n",
    "        input_shape = input_shape, model_load_path=trained_model_path, load_layers_bools=\"load_bools_SDSS\", trainable_bools=\"train_bools_SDSS\", \n",
    "        files_save_path=\"./saved_models/gamornet/\", loss='sparse_categorical_crossentropy', epochs=5000, callbacks=[early_stopping_callback], batch_size=256, lr=0.0005, decay=0.001)#, #lr=0.00001)#epochs=719)\n",
    "    plot_learning_curves(transfer_history)\n",
    "    transferred_model.save(f\"{transferred_model_path}_skf={i}.hdf5\", save_traces=True)"
   ]
  },
  {
   "cell_type": "code",
   "execution_count": null,
   "metadata": {},
   "outputs": [],
   "source": [
    "# for i, (train_index, val_index) in enumerate(sss.split(x_transfer, y_transfer)):\n",
    "#     model = tf.keras.models.load_model(f\"{transferred_model_path}_skf={i}.hdf5\", custom_objects={\"LocalResponseNormalization\": LocalResponseNormalization})\n",
    "#     plot_testing_results(model.predict(x_transfer[val_index]).argmax(axis=1), y_transfer[val_index])"
   ]
  },
  {
   "cell_type": "code",
   "execution_count": null,
   "metadata": {},
   "outputs": [],
   "source": [
    "for i, (train_index, val_index) in enumerate(sss.split(x_transfer, y_transfer)):\n",
    "    train_datagen = create_datagen(x_transfer[train_index])\n",
    "    val_datagen = create_datagen(x_transfer[val_index])\n",
    "    tuned_model, tuning_history = gamornet_tl_keras(train_datagen, x_transfer[train_index], y_transfer[train_index], val_datagen, x_transfer[val_index], y_transfer[val_index],\n",
    "        input_shape = input_shape, model_load_path=f\"{transferred_model_path}_skf={i}.hdf5\", \n",
    "        load_layers_bools=\"train_bools_SDSS\", \n",
    "        trainable_bools=\"train_bools_SDSS\",\n",
    "        files_save_path=\"./saved_models/gamornet/\", batch_size=128, loss='sparse_categorical_crossentropy', epochs=5000, lr=0.000005, callbacks=[early_stopping_callback])\n",
    "    plot_learning_curves(tuning_history)\n",
    "    tuned_model.save(f\"{tuned_model_path}_skf={i}.hdf5\", save_traces=True)"
   ]
  },
  {
   "cell_type": "code",
   "execution_count": null,
   "metadata": {},
   "outputs": [],
   "source": [
    "for i, (train_index, val_index) in enumerate(sss.split(x_transfer, y_transfer)):\n",
    "    model = tf.keras.models.load_model(f\"{tuned_model_path}_skf={i}.hdf5\", custom_objects={\"LocalResponseNormalization\": LocalResponseNormalization})\n",
    "    plot_testing_results(model.predict(x_transfer[val_index]).argmax(axis=1), y_transfer[val_index])"
   ]
  },
  {
   "cell_type": "code",
   "execution_count": null,
   "metadata": {},
   "outputs": [],
   "source": [
    "# trained_model = tf.keras.models.load_model(f\"{trained_model_path}\", custom_objects={\"LocalResponseNormalization\": LocalResponseNormalization})\n",
    "# for train_index, val_index in sss.split(x_transfer, y_transfer):\n",
    "#     plot_model_results(trained_model, x_transfer[train_index], y_transfer[train_index], x_transfer[val_index], y_transfer[val_index], x_transfer, y_transfer)\n"
   ]
  },
  {
   "cell_type": "code",
   "execution_count": null,
   "metadata": {},
   "outputs": [],
   "source": [
    "transferred_training_results = []\n",
    "transferred_validation_results = []\n",
    "for i, (train_index, val_index) in enumerate(sss.split(x_transfer, y_transfer)):\n",
    "    transferred_model = tf.keras.models.load_model(f\"{transferred_model_path}_skf={i}.hdf5\", custom_objects={\"LocalResponseNormalization\": LocalResponseNormalization})\n",
    "    #plot_model_results(transferred_model, x_transfer[train_index], y_transfer[train_index], x_transfer[val_index], y_transfer[val_index], x_transfer, y_transfer)\n",
    "    transferred_training_results.append(get_results(transferred_model, x_transfer[train_index], y_transfer[train_index]))\n",
    "    transferred_validation_results.append(get_results(transferred_model, x_transfer[val_index], y_transfer[val_index]))\n",
    "plot_results(transferred_training_results, title=\"Transfer Learning: GaMorNet; Training Confusion Matrix\")\n",
    "plot_results(transferred_validation_results, title=\"Transfer Learning: GaMorNet; Validation Confusion Matrix\")\n"
   ]
  },
  {
   "cell_type": "code",
   "execution_count": null,
   "metadata": {},
   "outputs": [],
   "source": [
    "tuned_training_results = []\n",
    "tuned_validation_results = []\n",
    "for i, (train_index, val_index) in enumerate(sss.split(x_transfer, y_transfer)):\n",
    "    tuned_model = tf.keras.models.load_model(f\"{tuned_model_path}_skf={i}.hdf5\", custom_objects={\"LocalResponseNormalization\": LocalResponseNormalization})\n",
    "    #plot_model_results(tuned_model, x_transfer[train_index], y_transfer[train_index], x_transfer[val_index], y_transfer[val_index], x_transfer, y_transfer)\n",
    "    tuned_training_results.append(get_results(tuned_model, x_transfer[train_index], y_transfer[train_index]))\n",
    "    tuned_validation_results.append(get_results(tuned_model, x_transfer[val_index], y_transfer[val_index]))\n",
    "plot_results(tuned_training_results, title=\"Transfer Learning: GaMorNet; Training Confusion Matrix\")\n",
    "plot_results(tuned_validation_results, title=\"Transfer Learning: GaMorNet; Validation Confusion Matrix\")\n"
   ]
  },
  {
   "cell_type": "code",
   "execution_count": 4,
   "metadata": {},
   "outputs": [],
   "source": [
    "transferred_model_path = f\"./saved_models/result_models/final/gamornet/transfer_learning/transferred_model_with_reg\"\n",
    "tuned_model_path = f\"./saved_models/result_models/final/gamornet/transfer_learning/tuned_model_with_reg\"\n",
    "\n",
    "#train_datagen = create_datagen(x_transfer)\n",
    "#complete_transferred_model, complete_transfer_history = gamornet_tl_keras(train_datagen, x_transfer, y_transfer, None, x_transfer, y_transfer, \n",
    "#    input_shape = input_shape, model_load_path=trained_model_path, load_layers_bools=\"load_bools_SDSS\", trainable_bools=\"train_bools_SDSS\", \n",
    "#    files_save_path=\"./saved_models/gamornet/\", loss='sparse_categorical_crossentropy', epochs=5000, callbacks=[], batch_size=256, lr=0.0005, decay=0.001)#, #lr=0.00001)#epochs=719)\n",
    "# plot_learning_curves(complete_transfer_history)\n",
    "# complete_transferred_model.save(f\"{transferred_model_path}_complete.hdf5\", save_traces=True)"
   ]
  },
  {
   "cell_type": "code",
   "execution_count": 5,
   "metadata": {},
   "outputs": [
    {
     "name": "stdout",
     "output_type": "stream",
     "text": [
      "[True, True, True, True, True, True, True, True]\n",
      "Loading Layer0 from previous model.\n",
      "Loading Layer5 from previous model.\n",
      "Loading Layer10 from previous model.\n",
      "Loading Layer12 from previous model.\n",
      "Loading Layer14 from previous model.\n",
      "Loading Layer20 from previous model.\n",
      "Loading Layer23 from previous model.\n",
      "Loading Layer26 from previous model.\n",
      "1/1 [==============================] - 7s 7s/step - loss: 47.3806 - sparse_categorical_accuracy: 0.8228 - accuracy: 0.5696 - val_loss: 47.1384 - val_sparse_categorical_accuracy: 0.9494 - val_accuracy: 0.5443\n"
     ]
    },
    {
     "data": {
      "image/png": "[encoded data removed]",
      "text/plain": [
       "<Figure size 432x288 with 1 Axes>"
      ]
     },
     "metadata": {
      "needs_background": "light"
     },
     "output_type": "display_data"
    },
    {
     "data": {
      "image/png": "[encoded data removed]",
      "text/plain": [
       "<Figure size 432x288 with 1 Axes>"
      ]
     },
     "metadata": {
      "needs_background": "light"
     },
     "output_type": "display_data"
    }
   ],
   "source": [
    "train_datagen = create_datagen(x_transfer)\n",
    "complete_tuned_model, complete_tuning_history = gamornet_tl_keras(train_datagen, x_transfer, y_transfer, None, x_transfer, y_transfer,\n",
    "    input_shape = input_shape, model_load_path=f\"{transferred_model_path}_complete.hdf5\", \n",
    "    load_layers_bools=[True] * 8, \n",
    "    trainable_bools=[True] * 8,\n",
    "    files_save_path=\"./saved_models/gamornet/\", batch_size=128, loss='sparse_categorical_crossentropy', epochs=35, lr=0.000005, callbacks=[])\n",
    "plot_learning_curves(complete_tuning_history)\n",
    "complete_tuned_model.save(f\"{tuned_model_path}_complete.hdf5\", save_traces=True)"
   ]
  },
  {
   "cell_type": "code",
   "execution_count": null,
   "metadata": {},
   "outputs": [],
   "source": [
    "complete_tuned_model.summary()"
   ]
  },
  {
   "cell_type": "code",
   "execution_count": null,
   "metadata": {},
   "outputs": [],
   "source": [
    "#o = get_results(complete_transferred_model, x_transfer, y_transfer)\n",
    "c = get_results(complete_tuned_model, x_transfer, y_transfer)\n",
    "#plot_results(o, title=\"Transfer Learning: GaMorNet; Training Confusion Matrix\")\n",
    "plot_results(c, title=\"Transfer Learning: GaMorNet; Validation Confusion Matrix\")"
   ]
  },
  {
   "cell_type": "code",
   "execution_count": null,
   "metadata": {},
   "outputs": [],
   "source": [
    "transferred_model = tf.keras.models.load_model(f\"{transferred_model_path}_complete.hdf5\", custom_objects={\"LocalResponseNormalization\": LocalResponseNormalization})\n",
    "c = get_results(transferred_model, x_transfer, y_transfer)\n",
    "plot_results(c, title=\"Transfer Learning: GaMorNet; Validation Confusion Matrix\")\n",
    "print(len(transferred_model.layers))"
   ]
  },
  {
   "cell_type": "code",
   "execution_count": 6,
   "metadata": {},
   "outputs": [
    {
     "name": "stdout",
     "output_type": "stream",
     "text": [
      "27\n"
     ]
    },
    {
     "data": {
      "image/png": "[encoded data removed]",
      "text/plain": [
       "<Figure size 432x288 with 2 Axes>"
      ]
     },
     "metadata": {
      "needs_background": "light"
     },
     "output_type": "display_data"
    }
   ],
   "source": [
    "tuned_model = tf.keras.models.load_model(f\"{tuned_model_path}_complete.hdf5\", custom_objects={\"LocalResponseNormalization\": LocalResponseNormalization})\n",
    "c = get_results(tuned_model, x_transfer, y_transfer)\n",
    "plot_results(c, title=\"Transfer Learning: GaMorNet; Validation Confusion Matrix\")\n",
    "print(len(tuned_model.layers))"
   ]
  }
 ],
 "metadata": {
  "interpreter": {
   "hash": "b20f78c8b161c2d28d097599ec49d232bad73a67c2dd6ab644d3da97e4813ebf"
  },
  "kernelspec": {
   "display_name": "Python 3.9.5 64-bit ('hon-tf-2.5.0': conda)",
   "name": "python3"
  },
  "language_info": {
   "codemirror_mode": {
    "name": "ipython",
    "version": 3
   },
   "file_extension": ".py",
   "mimetype": "text/x-python",
   "name": "python",
   "nbconvert_exporter": "python",
   "pygments_lexer": "ipython3",
   "version": "3.9.5"
  }
 },
 "nbformat": 4,
 "nbformat_minor": 5
}

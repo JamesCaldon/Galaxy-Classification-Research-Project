{
 "cells": [
  {
   "cell_type": "code",
   "execution_count": null,
   "source": [
    "import numpy as np\r\n",
    "import tensorflow as tf\r\n",
    "from tensorflow import keras\r\n",
    "\r\n",
    "# Weights of the different loss components\r\n",
    "total_variation_weight = 1e-6\r\n",
    "style_weight = 1e-6\r\n",
    "content_weight = 2.5e-8"
   ],
   "outputs": [],
   "metadata": {}
  }
 ],
 "metadata": {
  "orig_nbformat": 4,
  "language_info": {
   "name": "python"
  }
 },
 "nbformat": 4,
 "nbformat_minor": 2
}
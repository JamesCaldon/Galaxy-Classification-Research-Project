{
 "cells": [
  {
   "cell_type": "code",
   "execution_count": null,
   "source": [
    "import tensorflow as tf\r\n",
    "from tensorflow.keras.models import Sequential, clone_model, Model\r\n",
    "from tensorflow.keras.layers import Conv2D, MaxPooling2D, Dropout, BatchNormalization, Flatten, Dense, Add, ReLU, AveragePooling2D, Input, UpSampling2D\r\n",
    "from tensorflow.keras.losses import binary_crossentropy\r\n",
    "from tensorflow.keras.optimizers import Adam\r\n",
    "from tensorflow.keras.preprocessing.image import ImageDataGenerator\r\n",
    "from tensorflow.keras.initializers import GlorotUniform\r\n",
    "def autoencode():\r\n",
    "\r\n",
    "    input_img = Input(shape=(100, 100, 1))\r\n",
    "\r\n",
    "    x = Conv2D(128, (3, 3), activation='relu', padding='same')(input_img)\r\n",
    "    x = MaxPooling2D((2, 2), padding='same')(x)\r\n",
    "    x = Conv2D(64, (3, 3), activation='relu', padding='same')(x)\r\n",
    "    x = MaxPooling2D((2, 2), padding='same')(x)\r\n",
    "    x = Conv2D(64, (3, 3), activation='relu', padding='same')(x)\r\n",
    "    encoded = MaxPooling2D((2, 2), padding='same')(x)\r\n",
    "\r\n",
    "    # at this point the representation is (4, 4, 8) i.e. 128-dimensional\r\n",
    "\r\n",
    "    x = Conv2D(64, (3, 3), activation='relu', padding='same')(encoded)\r\n",
    "    x = UpSampling2D((2, 2))(x)\r\n",
    "    x = Conv2D(64, (3, 3), activation='relu', padding='same')(x)\r\n",
    "    x = UpSampling2D((2, 2))(x)\r\n",
    "    x = Conv2D(128, (3, 3), activation='relu')(x)\r\n",
    "    x = UpSampling2D((2, 2))(x)\r\n",
    "    decoded = Conv2D(1, (3, 3), activation='sigmoid', padding='same')(x)\r\n",
    "\r\n",
    "    autoencoder = Model(input_img, decoded)\r\n",
    "    autoencoder.compile(optimizer='adam', loss='binary_crossentropy')\r\n",
    "    return autoencoder"
   ],
   "outputs": [],
   "metadata": {}
  },
  {
   "cell_type": "code",
   "execution_count": null,
   "source": [
    "from tensorflow.keras.callbacks import TensorBoard\r\n",
    "\r\n",
    "autoencoder = esnet.autoencode()\r\n",
    "ac = autoencoder.fit(x_cal, x_cal,\r\n",
    "        epochs=512,\r\n",
    "        shuffle=True,\r\n",
    "        validation_data=(x_cal, x_cal),\r\n",
    "        callbacks=[],\r\n",
    "        verbose = 1)\r\n"
   ],
   "outputs": [],
   "metadata": {}
  },
  {
   "cell_type": "code",
   "execution_count": null,
   "source": [
    "import matplotlib as mpl\r\n",
    "print(tf.version.VERSION)\r\n",
    "%matplotlib inline\r\n",
    "mpl.rcParams['figure.figsize'] = [20, 20]\r\n",
    "mpl.rcParams['figure.dpi'] = 72\r\n",
    "\r\n",
    "decoded_imgs = autoencoder.predict(x_cal)\r\n",
    "n = 10\r\n",
    "plt.figure(figsize=(20, 4))\r\n",
    "for i in range(1, n + 1):\r\n",
    "    # Display original\r\n",
    "    ax = plt.subplot(2, n, i)\r\n",
    "    plt.imshow(x_cal[i].reshape(100, 100))\r\n",
    "    #plt.gray()\r\n",
    "    ax.get_xaxis().set_visible(False)\r\n",
    "    ax.get_yaxis().set_visible(False)\r\n",
    "\r\n",
    "    # Display reconstruction\r\n",
    "    ax = plt.subplot(2, n, i + n)\r\n",
    "    plt.imshow(decoded_imgs[i].reshape(100, 100))\r\n",
    "    #plt.gray()\r\n",
    "    ax.get_xaxis().set_visible(False)\r\n",
    "    ax.get_yaxis().set_visible(False)\r\n",
    "plt.show()"
   ],
   "outputs": [],
   "metadata": {}
  },
  {
   "cell_type": "code",
   "execution_count": null,
   "source": [
    "from utility.plotting_helpers import *\r\n",
    "plot_classification_results(images=decoded_imgs, y_preds=y_cal, y_trues=y_cal, y_labels=(\"No Disc\", \"Disc\"), random_sample=True)\r\n",
    "pprint(model.evaluate(decoded_imgs, y_cal))\r\n"
   ],
   "outputs": [],
   "metadata": {}
  }
 ],
 "metadata": {
  "orig_nbformat": 4,
  "language_info": {
   "name": "python"
  }
 },
 "nbformat": 4,
 "nbformat_minor": 2
}
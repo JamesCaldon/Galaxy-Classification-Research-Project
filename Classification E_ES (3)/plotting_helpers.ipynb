{
 "cells": [
  {
   "cell_type": "code",
   "execution_count": null,
   "id": "bee770d4",
   "metadata": {},
   "outputs": [],
   "source": [
    "import numpy as np\n",
    "import matplotlib as mpl\n",
    "from matplotlib import pyplot as plt\n",
    "\n",
    "def plot_classification_results(images, display_size=(5, 5), y_preds=None, y_trues=None, y_labels=None):\n",
    "    display_count = np.prod(display_size)\n",
    "    fig, axs = plt.subplots(display_size[0], display_size[1])\n",
    "    plt.tight_layout()\n",
    "    def plot_image(img, y_pred, ax):\n",
    "        ax.imshow(img)\n",
    "        if (y_pred != None):\n",
    "            title = y_labels[0]\n",
    "            if (y_pred == 1):\n",
    "                title = y_labels[1]\n",
    "            ax.set_title(title)\n",
    "\n",
    "    if (display_count != 1):\n",
    "        axs_list = axs.flatten()\n",
    "    else:\n",
    "        axs_list = [axs]\n",
    "    list(map(plot_image, images[:display_count], y_preds, axs_list));"
   ]
  }
 ],
 "metadata": {
  "kernelspec": {
   "display_name": "hon-k=2.1.4",
   "language": "python",
   "name": "honours-keras-2.1.4"
  },
  "language_info": {
   "codemirror_mode": {
    "name": "ipython",
    "version": 3
   },
   "file_extension": ".py",
   "mimetype": "text/x-python",
   "name": "python",
   "nbconvert_exporter": "python",
   "pygments_lexer": "ipython3",
   "version": "3.6.13"
  }
 },
 "nbformat": 4,
 "nbformat_minor": 5
}

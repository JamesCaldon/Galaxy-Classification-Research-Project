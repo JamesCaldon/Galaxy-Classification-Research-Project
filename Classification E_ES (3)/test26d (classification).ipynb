{
 "cells": [
  {
   "cell_type": "code",
   "execution_count": 1,
   "id": "92ef5a08",
   "metadata": {},
   "outputs": [],
   "source": [
    "#import tensorflow as tf\n",
    "#gpus = tf.config.experimental.list_physical_devices('GPU')\n",
    "#if gpus:\n",
    "#    try:\n",
    "#        for gpu in gpus:\n",
    "#            tf.config.experimental.set_memory_growth(gpu, True)#\n",
    "\n",
    "#    except RuntimeError as e:\n",
    "#        print(e)\n",
    "        \n"
   ]
  },
  {
   "cell_type": "code",
   "execution_count": 2,
   "id": "68c5fbf5",
   "metadata": {},
   "outputs": [
    {
     "name": "stderr",
     "output_type": "stream",
     "text": [
      "C:\\Users\\James_Dev_Account\\anaconda3\\envs\\honours-keras-2.1.4\\lib\\site-packages\\tensorflow\\python\\framework\\dtypes.py:523: FutureWarning: Passing (type, 1) or '1type' as a synonym of type is deprecated; in a future version of numpy, it will be understood as (type, (1,)) / '(1,)type'.\n",
      "  _np_qint8 = np.dtype([(\"qint8\", np.int8, 1)])\n",
      "C:\\Users\\James_Dev_Account\\anaconda3\\envs\\honours-keras-2.1.4\\lib\\site-packages\\tensorflow\\python\\framework\\dtypes.py:524: FutureWarning: Passing (type, 1) or '1type' as a synonym of type is deprecated; in a future version of numpy, it will be understood as (type, (1,)) / '(1,)type'.\n",
      "  _np_quint8 = np.dtype([(\"quint8\", np.uint8, 1)])\n",
      "C:\\Users\\James_Dev_Account\\anaconda3\\envs\\honours-keras-2.1.4\\lib\\site-packages\\tensorflow\\python\\framework\\dtypes.py:525: FutureWarning: Passing (type, 1) or '1type' as a synonym of type is deprecated; in a future version of numpy, it will be understood as (type, (1,)) / '(1,)type'.\n",
      "  _np_qint16 = np.dtype([(\"qint16\", np.int16, 1)])\n",
      "C:\\Users\\James_Dev_Account\\anaconda3\\envs\\honours-keras-2.1.4\\lib\\site-packages\\tensorflow\\python\\framework\\dtypes.py:526: FutureWarning: Passing (type, 1) or '1type' as a synonym of type is deprecated; in a future version of numpy, it will be understood as (type, (1,)) / '(1,)type'.\n",
      "  _np_quint16 = np.dtype([(\"quint16\", np.uint16, 1)])\n",
      "C:\\Users\\James_Dev_Account\\anaconda3\\envs\\honours-keras-2.1.4\\lib\\site-packages\\tensorflow\\python\\framework\\dtypes.py:527: FutureWarning: Passing (type, 1) or '1type' as a synonym of type is deprecated; in a future version of numpy, it will be understood as (type, (1,)) / '(1,)type'.\n",
      "  _np_qint32 = np.dtype([(\"qint32\", np.int32, 1)])\n",
      "C:\\Users\\James_Dev_Account\\anaconda3\\envs\\honours-keras-2.1.4\\lib\\site-packages\\tensorflow\\python\\framework\\dtypes.py:532: FutureWarning: Passing (type, 1) or '1type' as a synonym of type is deprecated; in a future version of numpy, it will be understood as (type, (1,)) / '(1,)type'.\n",
      "  np_resource = np.dtype([(\"resource\", np.ubyte, 1)])\n",
      "Using TensorFlow backend.\n"
     ]
    }
   ],
   "source": [
    "import tensorflow as tf\n",
    "from keras.backend.tensorflow_backend import set_session\n",
    "\n",
    "config = tf.ConfigProto()\n",
    "config.gpu_options.allow_growth = True\n",
    "sess = tf.Session(config=config)\n",
    "set_session(sess)"
   ]
  },
  {
   "cell_type": "code",
   "execution_count": 3,
   "id": "590e20e9",
   "metadata": {
    "scrolled": true
   },
   "outputs": [
    {
     "name": "stdout",
     "output_type": "stream",
     "text": [
      "nmodel 2000\n",
      "nmodel 2000\n",
      "num_classes 2\n",
      "50 50 2499\n",
      "(50, 50, 1)\n"
     ]
    }
   ],
   "source": [
    "\"\"\"\n",
    "\n",
    "This is for morphological classification of galaxies by CNN,\n",
    "By Kenji Bekki, on 2020/2/14 for Nair & Abraham 2010\n",
    "\n",
    "\"\"\"\n",
    "\n",
    "\n",
    "import keras\n",
    "from keras.datasets import mnist\n",
    "from keras.models import Sequential\n",
    "from keras.layers import Dense, Dropout, Flatten\n",
    "from keras.layers import Conv2D, MaxPooling2D\n",
    "from keras import backend as K\n",
    "from keras.utils import np_utils\n",
    "from keras.models import model_from_json\n",
    "import keras.callbacks\n",
    "import numpy as np\n",
    "#import keras.backend.tensorflow_backend as KTF\n",
    "#import tensorflow as tf\n",
    "import os.path\n",
    "\n",
    "\n",
    "### Total model number = (nmodle0) * nmodel\n",
    "\n",
    "#iset=int(input('Input the total number of sets of models '))\n",
    "#nmodel0=int(input('Input the total number of images per model'))\n",
    "#nmodel=nmodel0*iset\n",
    "nmodel=2000\n",
    "print('nmodel',nmodel)\n",
    "\n",
    "### Original values\n",
    "#batch_size = 128\n",
    "#num_classes = 10\n",
    "#epochs = 12\n",
    "batch_size = 100\n",
    "#num_classes = 5\n",
    "num_classes = 2\n",
    "epochs = 100\n",
    "nb_epoch=epochs\n",
    "n_mesh=50\n",
    "#nmodel=1000\n",
    "print('nmodel',nmodel)\n",
    "print('num_classes',num_classes)\n",
    "\n",
    "img_rows, img_cols = n_mesh, n_mesh\n",
    "n_mesh2=n_mesh*n_mesh-1\n",
    "n_mesh3=n_mesh*n_mesh\n",
    "\n",
    "\n",
    "print(img_rows, img_cols, n_mesh2)\n",
    "#stop\n",
    "\n",
    "\n",
    "\n",
    "#(x_train, y_train), (x_test, y_test) = mnist.load_data()\n",
    "#x_train = x_train.reshape(x_train.shape[0], img_rows, img_cols, 1)\n",
    "#x_test = x_test.reshape(x_test.shape[0], img_rows, img_cols, 1)\n",
    "\n",
    "input_shape = (img_rows, img_cols, 1)\n",
    "print(input_shape)\n",
    "#x_train = x_train.astype('float32')\n",
    "#x_test = x_test.astype('float32')\n",
    "#x_train /= 255\n",
    "#x_test /= 255\n",
    "#print('x_train shape:', x_train.shape)\n",
    "#print(x_train.shape[0], 'train samples')\n",
    "#print(x_test.shape[0], 'test samples')\n",
    "#print(y_test.shape[0], 'y.test samples')\n",
    "#print(str(y_test[0]))\n",
    "#print(str(y_test[1]))\n",
    "#print(str(y_test[2]))\n",
    "\n",
    "#y_train = y_train.astype('int32')\n",
    "#y_test = y_test.astype('int32')\n",
    "#y_train = keras.utils.np_utils.to_categorical(y_train, num_classes)\n",
    "#y_test =  keras.utils.np_utils.to_categorical(y_test, num_classes)"
   ]
  },
  {
   "cell_type": "code",
   "execution_count": 4,
   "id": "92db9006",
   "metadata": {},
   "outputs": [],
   "source": [
    "def old():\n",
    "    # This is for simlation data sets\n",
    "    GD_W_DISC_PATH = \"../generated_data/data3/\"\n",
    "    GD_WO_DISC_PATH = \"../generated_data/data4/\"\n",
    "\n",
    "    GD_FN = \"2dft.dat\"\n",
    "    DATA_PART_NMODEL = int(nmodel/2)\n",
    "\n",
    "\n",
    "    def load_data(path, filename):\n",
    "        return np.genfromtxt(os.path.join(path, filename), autostrip=True, max_rows=DATA_PART_NMODEL*n_mesh3)\n",
    "\n",
    "    x_dataset_wd = load_data(GD_W_DISC_PATH, GD_FN)\n",
    "    y_dataset_wd = np.ones((DATA_PART_NMODEL, 1), np.int)\n",
    "\n",
    "    x_dataset_wod = load_data(GD_WO_DISC_PATH, GD_FN)\n",
    "    y_dataset_wod = np.zeros((DATA_PART_NMODEL, 1), np.int)\n",
    "\n",
    "    x_dataset = np.append(x_dataset_wd, x_dataset_wod, axis=0)\n",
    "    y_dataset = np.append(y_dataset_wd, y_dataset_wod, axis=0)\n",
    "\n",
    "    np.savetxt(\"2dft.dat\", x_dataset, '%1.8f')\n",
    "    np.savetxt(\"2dftn.dat\", y_dataset, '%d')\n",
    "\n",
    "    x_dataset = x_dataset.reshape(nmodel, img_rows, img_cols, 1)\n",
    "    print(x_dataset.shape)\n",
    "    print(y_dataset.shape)"
   ]
  },
  {
   "cell_type": "code",
   "execution_count": 5,
   "id": "ee182534",
   "metadata": {},
   "outputs": [
    {
     "name": "stdout",
     "output_type": "stream",
     "text": [
      "(2000, 50, 50, 1)\n",
      "(2000, 1)\n"
     ]
    }
   ],
   "source": [
    "%run ../data_preparation/FILE_IO_FUNCTIONS.ipynb\n",
    "nmodel_part = int(nmodel/2)\n",
    "x_dataset_wd = load_data(data=\"DATA3\", count=nmodel_part)\n",
    "x_dataset_wod = load_data(data=\"DATA4\", count=nmodel_part)\n",
    "\n",
    "y_dataset_wd = np.ones((x_dataset_wd.shape[0], 1), np.int)\n",
    "y_dataset_wod = np.zeros((x_dataset_wod.shape[0], 1), np.int)\n",
    "\n",
    "x_dataset = np.append(x_dataset_wd, x_dataset_wod, axis=0)\n",
    "y_dataset = np.append(y_dataset_wd, y_dataset_wod, axis=0)\n",
    "\n",
    "%run ../data_preparation/PRE_PROCESSING.ipynb\n",
    "add_gaussian_noise(x_dataset)\n",
    "add_point_sources(x_dataset)\n",
    "\n",
    "print(x_dataset.shape)\n",
    "print(y_dataset.shape)"
   ]
  },
  {
   "cell_type": "code",
   "execution_count": 6,
   "id": "52f1f066",
   "metadata": {},
   "outputs": [],
   "source": [
    "from sklearn import model_selection\n",
    "x_train, x_test, y_train, y_test = model_selection.train_test_split(x_dataset, y_dataset, train_size=0.8, random_state=1)"
   ]
  },
  {
   "cell_type": "code",
   "execution_count": 7,
   "id": "0ca76cc0",
   "metadata": {},
   "outputs": [],
   "source": [
    "#x_train = x_dataset; x_test = x_train; y_train = y_dataset; y_test = y_train"
   ]
  },
  {
   "cell_type": "code",
   "execution_count": 8,
   "id": "f8c02905",
   "metadata": {},
   "outputs": [],
   "source": [
    "np.savetxt(\"2dfv_test_split.dat\", x_test.flatten())\n",
    "np.savetxt(\"2dftn_test_split.dat\", y_test, '%d')"
   ]
  },
  {
   "cell_type": "code",
   "execution_count": 9,
   "id": "1492feb4",
   "metadata": {},
   "outputs": [],
   "source": [
    "y_train = keras.utils.np_utils.to_categorical(y_train, num_classes)\n",
    "y_test = keras.utils.np_utils.to_categorical(y_test, num_classes)"
   ]
  },
  {
   "cell_type": "code",
   "execution_count": 10,
   "id": "28b67663",
   "metadata": {},
   "outputs": [
    {
     "name": "stdout",
     "output_type": "stream",
     "text": [
      "Train on 1600 samples, validate on 400 samples\n",
      "Epoch 1/100\n",
      "1600/1600 [==============================] - 2s 1ms/step - loss: 0.7083 - acc: 0.4975 - val_loss: 0.6924 - val_acc: 0.5125\n",
      "Epoch 2/100\n",
      "1600/1600 [==============================] - 0s 249us/step - loss: 0.6933 - acc: 0.5087 - val_loss: 0.6924 - val_acc: 0.5125\n",
      "Epoch 3/100\n",
      "1600/1600 [==============================] - 0s 244us/step - loss: 0.6929 - acc: 0.4994 - val_loss: 0.6924 - val_acc: 0.5125\n",
      "Epoch 4/100\n",
      "1600/1600 [==============================] - 0s 245us/step - loss: 0.6927 - acc: 0.5069 - val_loss: 0.6920 - val_acc: 0.5300\n",
      "Epoch 5/100\n",
      "1600/1600 [==============================] - 0s 248us/step - loss: 0.6926 - acc: 0.5169 - val_loss: 0.6928 - val_acc: 0.4875\n",
      "Epoch 6/100\n",
      "1600/1600 [==============================] - 0s 254us/step - loss: 0.6915 - acc: 0.5231 - val_loss: 0.6915 - val_acc: 0.4875\n",
      "Epoch 7/100\n",
      "1600/1600 [==============================] - 0s 266us/step - loss: 0.6927 - acc: 0.5187 - val_loss: 0.6920 - val_acc: 0.4875\n",
      "Epoch 8/100\n",
      "1600/1600 [==============================] - 0s 254us/step - loss: 0.6909 - acc: 0.5412 - val_loss: 0.6905 - val_acc: 0.4875\n",
      "Epoch 9/100\n",
      "1600/1600 [==============================] - 0s 259us/step - loss: 0.6906 - acc: 0.5444 - val_loss: 0.6903 - val_acc: 0.4875\n",
      "Epoch 10/100\n",
      "1600/1600 [==============================] - 0s 257us/step - loss: 0.6901 - acc: 0.5450 - val_loss: 0.6883 - val_acc: 0.5125\n",
      "Epoch 11/100\n",
      "1600/1600 [==============================] - 0s 261us/step - loss: 0.6880 - acc: 0.5813 - val_loss: 0.6850 - val_acc: 0.7625\n",
      "Epoch 12/100\n",
      "1600/1600 [==============================] - 0s 252us/step - loss: 0.6861 - acc: 0.5725 - val_loss: 0.6872 - val_acc: 0.4875\n",
      "Epoch 13/100\n",
      "1600/1600 [==============================] - 0s 257us/step - loss: 0.6810 - acc: 0.6062 - val_loss: 0.6753 - val_acc: 0.5125\n",
      "Epoch 14/100\n",
      "1600/1600 [==============================] - 0s 253us/step - loss: 0.6749 - acc: 0.5825 - val_loss: 0.6729 - val_acc: 0.4925\n",
      "Epoch 15/100\n",
      "1600/1600 [==============================] - 0s 254us/step - loss: 0.6677 - acc: 0.6181 - val_loss: 0.6705 - val_acc: 0.4875\n",
      "Epoch 16/100\n",
      "1600/1600 [==============================] - 0s 250us/step - loss: 0.6527 - acc: 0.6306 - val_loss: 0.6375 - val_acc: 0.5575\n",
      "Epoch 17/100\n",
      "1600/1600 [==============================] - 0s 249us/step - loss: 0.6544 - acc: 0.6537 - val_loss: 0.6410 - val_acc: 0.5125\n",
      "Epoch 18/100\n",
      "1600/1600 [==============================] - 0s 251us/step - loss: 0.6187 - acc: 0.7000 - val_loss: 0.5688 - val_acc: 0.7700\n",
      "Epoch 19/100\n",
      "1600/1600 [==============================] - 0s 269us/step - loss: 0.5584 - acc: 0.7244 - val_loss: 0.4999 - val_acc: 0.8100\n",
      "Epoch 20/100\n",
      "1600/1600 [==============================] - 0s 254us/step - loss: 0.4889 - acc: 0.7925 - val_loss: 0.3842 - val_acc: 0.9250\n",
      "Epoch 21/100\n",
      "1600/1600 [==============================] - 0s 259us/step - loss: 0.3688 - acc: 0.8706 - val_loss: 0.2190 - val_acc: 0.9875\n",
      "Epoch 22/100\n",
      "1600/1600 [==============================] - 0s 252us/step - loss: 0.2660 - acc: 0.9069 - val_loss: 0.2007 - val_acc: 0.9375\n",
      "Epoch 23/100\n",
      "1600/1600 [==============================] - 0s 256us/step - loss: 0.1706 - acc: 0.9469 - val_loss: 0.0926 - val_acc: 0.9900\n",
      "Epoch 24/100\n",
      "1600/1600 [==============================] - 0s 257us/step - loss: 0.1118 - acc: 0.9744 - val_loss: 0.0576 - val_acc: 0.9925\n",
      "Epoch 25/100\n",
      "1600/1600 [==============================] - 0s 259us/step - loss: 0.0738 - acc: 0.9838 - val_loss: 0.0401 - val_acc: 0.9900\n",
      "Epoch 26/100\n",
      "1600/1600 [==============================] - 0s 250us/step - loss: 0.0419 - acc: 0.9931 - val_loss: 0.0284 - val_acc: 0.9925\n",
      "Epoch 27/100\n",
      "1600/1600 [==============================] - 0s 251us/step - loss: 0.0507 - acc: 0.9881 - val_loss: 0.0246 - val_acc: 0.9950\n",
      "Epoch 28/100\n",
      "1600/1600 [==============================] - 0s 252us/step - loss: 0.0252 - acc: 0.9969 - val_loss: 0.0180 - val_acc: 0.9950\n",
      "Epoch 29/100\n",
      "1600/1600 [==============================] - 0s 254us/step - loss: 0.0178 - acc: 0.9994 - val_loss: 0.0192 - val_acc: 0.9925\n",
      "Epoch 30/100\n",
      "1600/1600 [==============================] - 0s 250us/step - loss: 0.0215 - acc: 0.9950 - val_loss: 0.0154 - val_acc: 1.0000\n",
      "Epoch 31/100\n",
      "1600/1600 [==============================] - 0s 251us/step - loss: 0.0162 - acc: 0.9963 - val_loss: 0.0179 - val_acc: 0.9925\n",
      "Epoch 32/100\n",
      "1600/1600 [==============================] - 0s 252us/step - loss: 0.0117 - acc: 0.9988 - val_loss: 0.0112 - val_acc: 0.9950\n",
      "Epoch 33/100\n",
      "1600/1600 [==============================] - 0s 257us/step - loss: 0.0140 - acc: 0.9988 - val_loss: 0.0224 - val_acc: 0.9900\n",
      "Epoch 34/100\n",
      "1600/1600 [==============================] - 0s 249us/step - loss: 0.0091 - acc: 0.9988 - val_loss: 0.0119 - val_acc: 0.9925\n",
      "Epoch 35/100\n",
      "1600/1600 [==============================] - 0s 252us/step - loss: 0.0079 - acc: 0.9988 - val_loss: 0.0118 - val_acc: 0.9925\n",
      "Epoch 36/100\n",
      "1600/1600 [==============================] - 0s 257us/step - loss: 0.0063 - acc: 1.0000 - val_loss: 0.0084 - val_acc: 0.9975\n",
      "Epoch 37/100\n",
      "1600/1600 [==============================] - 0s 249us/step - loss: 0.0087 - acc: 0.9988 - val_loss: 0.0083 - val_acc: 0.9975\n",
      "Epoch 38/100\n",
      "1600/1600 [==============================] - 0s 249us/step - loss: 0.0058 - acc: 1.0000 - val_loss: 0.0091 - val_acc: 0.9975\n",
      "Epoch 39/100\n",
      "1600/1600 [==============================] - 0s 249us/step - loss: 0.0040 - acc: 1.0000 - val_loss: 0.0065 - val_acc: 0.9975\n",
      "Epoch 40/100\n",
      "1600/1600 [==============================] - 0s 253us/step - loss: 0.0043 - acc: 0.9994 - val_loss: 0.0073 - val_acc: 0.9975\n",
      "Epoch 41/100\n",
      "1600/1600 [==============================] - 0s 264us/step - loss: 0.0024 - acc: 1.0000 - val_loss: 0.0161 - val_acc: 0.9925\n",
      "Epoch 42/100\n",
      "1600/1600 [==============================] - 0s 252us/step - loss: 0.0034 - acc: 1.0000 - val_loss: 0.0061 - val_acc: 0.9975\n",
      "Epoch 43/100\n",
      "1600/1600 [==============================] - 0s 253us/step - loss: 0.0024 - acc: 1.0000 - val_loss: 0.0094 - val_acc: 0.9950\n",
      "Epoch 44/100\n",
      "1600/1600 [==============================] - 0s 249us/step - loss: 0.0043 - acc: 0.9988 - val_loss: 0.0055 - val_acc: 1.0000\n",
      "Epoch 45/100\n",
      "1600/1600 [==============================] - 0s 249us/step - loss: 0.0024 - acc: 1.0000 - val_loss: 0.0088 - val_acc: 0.9950\n",
      "Epoch 46/100\n",
      "1600/1600 [==============================] - 0s 251us/step - loss: 0.0019 - acc: 1.0000 - val_loss: 0.0072 - val_acc: 0.9975\n",
      "Epoch 47/100\n",
      "1600/1600 [==============================] - 0s 246us/step - loss: 0.0017 - acc: 1.0000 - val_loss: 0.0038 - val_acc: 1.0000\n",
      "Epoch 48/100\n",
      "1600/1600 [==============================] - 0s 251us/step - loss: 0.0025 - acc: 0.9994 - val_loss: 0.0113 - val_acc: 0.9950\n",
      "Epoch 49/100\n",
      "1600/1600 [==============================] - 0s 247us/step - loss: 0.0027 - acc: 1.0000 - val_loss: 0.0076 - val_acc: 0.9950\n",
      "Epoch 50/100\n",
      "1600/1600 [==============================] - 0s 249us/step - loss: 0.0022 - acc: 1.0000 - val_loss: 0.0352 - val_acc: 0.9875\n",
      "Epoch 51/100\n",
      "1600/1600 [==============================] - 0s 253us/step - loss: 0.0018 - acc: 1.0000 - val_loss: 0.0034 - val_acc: 1.0000\n",
      "Epoch 52/100\n",
      "1600/1600 [==============================] - 0s 251us/step - loss: 0.0016 - acc: 1.0000 - val_loss: 0.0104 - val_acc: 0.9950\n",
      "Epoch 53/100\n",
      "1600/1600 [==============================] - 0s 254us/step - loss: 0.0010 - acc: 1.0000 - val_loss: 0.0042 - val_acc: 1.0000\n",
      "Epoch 54/100\n",
      "1600/1600 [==============================] - 0s 250us/step - loss: 0.0013 - acc: 1.0000 - val_loss: 0.0029 - val_acc: 1.0000\n",
      "Epoch 55/100\n",
      "1600/1600 [==============================] - 0s 251us/step - loss: 0.0032 - acc: 0.9994 - val_loss: 0.0027 - val_acc: 1.0000\n",
      "Epoch 56/100\n",
      "1600/1600 [==============================] - 0s 256us/step - loss: 0.0013 - acc: 1.0000 - val_loss: 0.0045 - val_acc: 1.0000\n",
      "Epoch 57/100\n",
      "1600/1600 [==============================] - 0s 254us/step - loss: 8.4684e-04 - acc: 1.0000 - val_loss: 0.0042 - val_acc: 1.0000\n",
      "Epoch 58/100\n",
      "1600/1600 [==============================] - 0s 255us/step - loss: 0.0022 - acc: 1.0000 - val_loss: 0.0051 - val_acc: 0.9975\n",
      "Epoch 59/100\n",
      "1600/1600 [==============================] - 0s 255us/step - loss: 0.0011 - acc: 1.0000 - val_loss: 0.0062 - val_acc: 0.9975\n",
      "Epoch 60/100\n"
     ]
    },
    {
     "name": "stdout",
     "output_type": "stream",
     "text": [
      "1600/1600 [==============================] - 0s 266us/step - loss: 0.0014 - acc: 0.9994 - val_loss: 0.0056 - val_acc: 0.9975\n",
      "Epoch 61/100\n",
      "1600/1600 [==============================] - 0s 257us/step - loss: 0.0019 - acc: 0.9994 - val_loss: 0.0024 - val_acc: 1.0000\n",
      "Epoch 62/100\n",
      "1600/1600 [==============================] - 0s 275us/step - loss: 0.0017 - acc: 1.0000 - val_loss: 0.0077 - val_acc: 0.9975\n",
      "Epoch 63/100\n",
      "1600/1600 [==============================] - 0s 248us/step - loss: 9.0763e-04 - acc: 1.0000 - val_loss: 0.0060 - val_acc: 0.9975\n",
      "Epoch 64/100\n",
      "1600/1600 [==============================] - 0s 248us/step - loss: 9.3723e-04 - acc: 1.0000 - val_loss: 0.0050 - val_acc: 0.9975\n",
      "Epoch 65/100\n",
      "1600/1600 [==============================] - 0s 263us/step - loss: 0.0014 - acc: 0.9994 - val_loss: 0.0035 - val_acc: 1.0000\n",
      "Epoch 66/100\n",
      "1600/1600 [==============================] - 0s 260us/step - loss: 9.9627e-04 - acc: 1.0000 - val_loss: 0.0078 - val_acc: 0.9950\n",
      "Epoch 67/100\n",
      "1600/1600 [==============================] - 0s 259us/step - loss: 5.3430e-04 - acc: 1.0000 - val_loss: 0.0067 - val_acc: 0.9950\n",
      "Epoch 68/100\n",
      "1600/1600 [==============================] - 0s 248us/step - loss: 8.5237e-04 - acc: 1.0000 - val_loss: 0.0085 - val_acc: 0.9950\n",
      "Epoch 69/100\n",
      "1600/1600 [==============================] - 0s 250us/step - loss: 5.7457e-04 - acc: 1.0000 - val_loss: 0.0035 - val_acc: 1.0000\n",
      "Epoch 70/100\n",
      "1600/1600 [==============================] - 0s 242us/step - loss: 8.2104e-04 - acc: 1.0000 - val_loss: 0.0023 - val_acc: 1.0000\n",
      "Epoch 71/100\n",
      "1600/1600 [==============================] - 0s 263us/step - loss: 4.8325e-04 - acc: 1.0000 - val_loss: 0.0122 - val_acc: 0.9950\n",
      "Epoch 72/100\n",
      "1600/1600 [==============================] - 0s 242us/step - loss: 5.8374e-04 - acc: 1.0000 - val_loss: 0.0046 - val_acc: 0.9975\n",
      "Epoch 73/100\n",
      "1600/1600 [==============================] - 0s 252us/step - loss: 0.0012 - acc: 1.0000 - val_loss: 0.0034 - val_acc: 1.0000\n",
      "Epoch 74/100\n",
      "1600/1600 [==============================] - 0s 254us/step - loss: 6.7102e-04 - acc: 1.0000 - val_loss: 0.0036 - val_acc: 0.9975\n",
      "Epoch 75/100\n",
      "1600/1600 [==============================] - 0s 245us/step - loss: 4.9518e-04 - acc: 1.0000 - val_loss: 0.0070 - val_acc: 0.9950\n",
      "Epoch 76/100\n",
      "1600/1600 [==============================] - 0s 251us/step - loss: 6.8442e-04 - acc: 1.0000 - val_loss: 0.0053 - val_acc: 0.9975\n",
      "Epoch 77/100\n",
      "1600/1600 [==============================] - 0s 245us/step - loss: 3.0396e-04 - acc: 1.0000 - val_loss: 0.0049 - val_acc: 0.9975\n",
      "Epoch 78/100\n",
      "1600/1600 [==============================] - 0s 251us/step - loss: 6.9899e-04 - acc: 1.0000 - val_loss: 0.0050 - val_acc: 0.9975\n",
      "Epoch 79/100\n",
      "1600/1600 [==============================] - 0s 251us/step - loss: 4.1496e-04 - acc: 1.0000 - val_loss: 0.0040 - val_acc: 0.9975\n",
      "Epoch 80/100\n",
      "1600/1600 [==============================] - 0s 246us/step - loss: 4.3034e-04 - acc: 1.0000 - val_loss: 0.0075 - val_acc: 0.9950\n",
      "Epoch 81/100\n",
      "1600/1600 [==============================] - 0s 252us/step - loss: 4.5383e-04 - acc: 1.0000 - val_loss: 0.0047 - val_acc: 0.9975\n",
      "Epoch 82/100\n",
      "1600/1600 [==============================] - 0s 247us/step - loss: 5.1393e-04 - acc: 1.0000 - val_loss: 0.0055 - val_acc: 0.9975\n",
      "Epoch 83/100\n",
      "1600/1600 [==============================] - 0s 242us/step - loss: 5.8305e-04 - acc: 1.0000 - val_loss: 0.0032 - val_acc: 0.9975\n",
      "Epoch 84/100\n",
      "1600/1600 [==============================] - 0s 252us/step - loss: 3.7289e-04 - acc: 1.0000 - val_loss: 0.0043 - val_acc: 0.9975\n",
      "Epoch 85/100\n",
      "1600/1600 [==============================] - 0s 247us/step - loss: 7.8259e-04 - acc: 1.0000 - val_loss: 0.0083 - val_acc: 0.9950\n",
      "Epoch 86/100\n",
      "1600/1600 [==============================] - 0s 245us/step - loss: 3.6189e-04 - acc: 1.0000 - val_loss: 0.0038 - val_acc: 0.9975\n",
      "Epoch 87/100\n",
      "1600/1600 [==============================] - 0s 247us/step - loss: 2.5403e-04 - acc: 1.0000 - val_loss: 0.0035 - val_acc: 0.9975\n",
      "Epoch 88/100\n",
      "1600/1600 [==============================] - 0s 261us/step - loss: 0.0013 - acc: 0.9994 - val_loss: 0.0054 - val_acc: 0.9975\n",
      "Epoch 89/100\n",
      "1600/1600 [==============================] - 0s 253us/step - loss: 6.4121e-04 - acc: 1.0000 - val_loss: 0.0030 - val_acc: 1.0000\n",
      "Epoch 90/100\n",
      "1600/1600 [==============================] - 0s 255us/step - loss: 2.6238e-04 - acc: 1.0000 - val_loss: 0.0034 - val_acc: 0.9975\n",
      "Epoch 91/100\n",
      "1600/1600 [==============================] - 0s 246us/step - loss: 8.3073e-04 - acc: 0.9994 - val_loss: 0.0013 - val_acc: 1.0000\n",
      "Epoch 92/100\n",
      "1600/1600 [==============================] - 0s 248us/step - loss: 4.5189e-04 - acc: 1.0000 - val_loss: 0.0013 - val_acc: 1.0000\n",
      "Epoch 93/100\n",
      "1600/1600 [==============================] - 0s 251us/step - loss: 4.5325e-04 - acc: 1.0000 - val_loss: 0.0045 - val_acc: 0.9950\n",
      "Epoch 94/100\n",
      "1600/1600 [==============================] - 0s 249us/step - loss: 2.4905e-04 - acc: 1.0000 - val_loss: 0.0049 - val_acc: 0.9950\n",
      "Epoch 95/100\n",
      "1600/1600 [==============================] - 0s 254us/step - loss: 4.6120e-04 - acc: 1.0000 - val_loss: 0.0089 - val_acc: 0.9950\n",
      "Epoch 96/100\n",
      "1600/1600 [==============================] - 0s 250us/step - loss: 5.8430e-04 - acc: 1.0000 - val_loss: 0.0016 - val_acc: 1.0000\n",
      "Epoch 97/100\n",
      "1600/1600 [==============================] - 0s 253us/step - loss: 2.4693e-04 - acc: 1.0000 - val_loss: 0.0032 - val_acc: 1.0000\n",
      "Epoch 98/100\n",
      "1600/1600 [==============================] - 0s 251us/step - loss: 3.9248e-04 - acc: 1.0000 - val_loss: 0.0020 - val_acc: 1.0000\n",
      "Epoch 99/100\n",
      "1600/1600 [==============================] - 0s 241us/step - loss: 1.7900e-04 - acc: 1.0000 - val_loss: 0.0034 - val_acc: 1.0000\n",
      "Epoch 100/100\n",
      "1600/1600 [==============================] - 0s 258us/step - loss: 4.1060e-04 - acc: 1.0000 - val_loss: 0.0059 - val_acc: 0.9950\n",
      "Test score: 0.005913613585507846\n",
      "Test accuracy: 0.995\n",
      "save the architecture of a model\n",
      "Saved model to disk\n"
     ]
    }
   ],
   "source": [
    "#stop\n",
    "\n",
    "model = Sequential()\n",
    "model.add(Conv2D(32, kernel_size=(3, 3),\n",
    "                 activation='relu',\n",
    "                 input_shape=input_shape))\n",
    "model.add(Conv2D(64, (3, 3), activation='relu'))\n",
    "model.add(MaxPooling2D(pool_size=(2, 2)))\n",
    "model.add(Dropout(0.25))\n",
    "model.add(Flatten())\n",
    "model.add(Dense(128, activation='relu'))\n",
    "model.add(Dropout(0.5))\n",
    "model.add(Dense(num_classes, activation='softmax'))\n",
    "\n",
    "model.compile(loss=keras.losses.categorical_crossentropy,\n",
    "              optimizer=keras.optimizers.Adadelta(),\n",
    "              metrics=['accuracy'])\n",
    "\n",
    "model.fit(x_train, y_train, batch_size=batch_size, epochs=epochs,\n",
    "          verbose=1, validation_data=(x_test, y_test))\n",
    "\n",
    "score = model.evaluate(x_test, y_test, verbose=0)\n",
    "print('Test score:', score[0])\n",
    "print('Test accuracy:', score[1])\n",
    "\n",
    "\n",
    "print('save the architecture of a model')\n",
    "\n",
    "model_json = model.to_json()\n",
    "with open(\"model.json\", \"w\") as json_file:\n",
    "    json_file.write(model_json)\n",
    "\n",
    "# serialize weights to HDF5\n",
    "model.save_weights(\"model.h5\")\n",
    "print(\"Saved model to disk\")\n"
   ]
  },
  {
   "cell_type": "code",
   "execution_count": 11,
   "id": "f8893f60",
   "metadata": {},
   "outputs": [
    {
     "data": {
      "text/plain": [
       "<sklearn.metrics._plot.confusion_matrix.ConfusionMatrixDisplay at 0x1f041c3ad30>"
      ]
     },
     "execution_count": 11,
     "metadata": {},
     "output_type": "execute_result"
    },
    {
     "data": {
      "image/png": "[encoded data removed]",
      "text/plain": [
       "<Figure size 432x288 with 2 Axes>"
      ]
     },
     "metadata": {
      "needs_background": "light"
     },
     "output_type": "display_data"
    }
   ],
   "source": [
    "from sklearn import metrics\n",
    "\n",
    "true_data = y_test\n",
    "predicted_data = model.predict(x_test)\n",
    "metrics.ConfusionMatrixDisplay(metrics.confusion_matrix(true_data.argmax(axis=1), predicted_data.argmax(axis=1))).plot(cmap='Blues')"
   ]
  },
  {
   "cell_type": "code",
   "execution_count": 12,
   "id": "0fbfe7c3",
   "metadata": {},
   "outputs": [
    {
     "name": "stdout",
     "output_type": "stream",
     "text": [
      "float64\n",
      "(50, 50, 1)\n"
     ]
    },
    {
     "data": {
      "image/png": "[encoded data removed]",
      "text/plain": [
       "<Figure size 432x288 with 1 Axes>"
      ]
     },
     "metadata": {
      "needs_background": "light"
     },
     "output_type": "display_data"
    },
    {
     "data": {
      "image/png": "[encoded data removed]",
      "text/plain": [
       "<Figure size 432x288 with 1 Axes>"
      ]
     },
     "metadata": {
      "needs_background": "light"
     },
     "output_type": "display_data"
    },
    {
     "data": {
      "image/png": "[encoded data removed]",
      "text/plain": [
       "<Figure size 432x288 with 1 Axes>"
      ]
     },
     "metadata": {
      "needs_background": "light"
     },
     "output_type": "display_data"
    }
   ],
   "source": [
    "from matplotlib import image\n",
    "from matplotlib import pyplot\n",
    "\n",
    "# summarize shape of the pixel array\n",
    "print(x_train[0].dtype)\n",
    "print(x_train[0].shape)\n",
    "# display the array of pixels as an image\n",
    "pyplot.imshow(x_train[0])\n",
    "pyplot.show()\n",
    "pyplot.imshow(x_train[1])\n",
    "pyplot.show()\n",
    "pyplot.imshow(x_train[2])\n",
    "pyplot.show()"
   ]
  },
  {
   "cell_type": "code",
   "execution_count": null,
   "id": "f44c8aba",
   "metadata": {},
   "outputs": [],
   "source": []
  }
 ],
 "metadata": {
  "kernelspec": {
   "display_name": "hon-k=2.1.4",
   "language": "python",
   "name": "honours-keras-2.1.4"
  },
  "language_info": {
   "codemirror_mode": {
    "name": "ipython",
    "version": 3
   },
   "file_extension": ".py",
   "mimetype": "text/x-python",
   "name": "python",
   "nbconvert_exporter": "python",
   "pygments_lexer": "ipython3",
   "version": "3.6.13"
  }
 },
 "nbformat": 4,
 "nbformat_minor": 5
}
